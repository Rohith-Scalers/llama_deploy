{
 "cells": [
  {
   "cell_type": "markdown",
   "id": "9128484c-d9a4-4d79-ad7f-cdd64af91ff4",
   "metadata": {},
   "source": [
    "# Simple Pig-Latin Translator"
   ]
  },
  {
   "cell_type": "markdown",
   "id": "0d7641b0-8bc6-4388-8197-b08eca72fd2c",
   "metadata": {},
   "source": [
    "## Task Eavesdropper"
   ]
  },
  {
   "cell_type": "code",
   "execution_count": null,
   "id": "685198c9-e028-4649-a2d0-21ee1515529a",
   "metadata": {},
   "outputs": [],
   "source": [
    "import nest_asyncio\n",
    "\n",
    "nest_asyncio.apply()"
   ]
  },
  {
   "cell_type": "code",
   "execution_count": null,
   "id": "d6a76db1-c106-4161-81a4-f317d8e9044c",
   "metadata": {},
   "outputs": [],
   "source": [
    "from llama_agents.message_queues.rabbitmq import RabbitMQMessageQueue\n",
    "from multi_agent_system.utils import load_from_env\n",
    "\n",
    "message_queue_host = load_from_env(\"RABBITMQ_HOST\")\n",
    "message_queue_port = load_from_env(\"RABBITMQ_NODE_PORT\")\n",
    "message_queue_username = load_from_env(\"RABBITMQ_DEFAULT_USER\")\n",
    "message_queue_password = load_from_env(\"RABBITMQ_DEFAULT_PASS\")\n",
    "\n",
    "message_queue = RabbitMQMessageQueue(\n",
    "    url=f\"amqp://{message_queue_username}:{message_queue_password}@{message_queue_host}:{message_queue_port}/\"\n",
    ")"
   ]
  },
  {
   "cell_type": "code",
   "execution_count": null,
   "id": "4d1a0c8b-e1a9-4679-b0bf-1f5cd5f1f9c8",
   "metadata": {},
   "outputs": [],
   "source": [
    "from llama_agents.types import TASK_CONSUMER_NAME\n",
    "from llama_agents import QueueMessage, CallableMessageConsumer\n",
    "\n",
    "task_messages = []\n",
    "\n",
    "\n",
    "def handle_task_messages(message: QueueMessage) -> None:\n",
    "    task_messages.append(message)\n",
    "\n",
    "\n",
    "task_message_eavesdropper = CallableMessageConsumer(\n",
    "    handler=handle_task_messages, message_type=TASK_CONSUMER_NAME\n",
    ")"
   ]
  },
  {
   "cell_type": "code",
   "execution_count": null,
   "id": "610ea960-2003-4d1b-9958-c756ffb27199",
   "metadata": {},
   "outputs": [
    {
     "name": "stderr",
     "output_type": "stream",
     "text": [
      "INFO:llama_agents.message_queues.rabbitmq - Registered consumer 8302bac3-48bb-46c6-be0d-d3eb9ccebb9d: task_eavesdropper\n"
     ]
    }
   ],
   "source": [
    "task_eavesdropper_start_consuming = await message_queue.register_consumer(\n",
    "    task_message_eavesdropper\n",
    ")"
   ]
  },
  {
   "cell_type": "code",
   "execution_count": null,
   "id": "273cd826-01a5-41d2-b642-4b7625c8e6f8",
   "metadata": {},
   "outputs": [],
   "source": [
    "import asyncio\n",
    "\n",
    "_ = asyncio.create_task(task_eavesdropper_start_consuming())"
   ]
  },
  {
   "cell_type": "code",
   "execution_count": null,
   "id": "1729848c-3b28-4334-a368-102a33df3a2b",
   "metadata": {},
   "outputs": [
    {
     "data": {
      "text/plain": [
       "[QueueMessage(id_='180bd000-66b0-4537-a6da-8f371ee4c06b', publisher_id='default', data={'input': \"Please decode the following input: 'ellohay owhay reaay ouyay'\", 'task_id': '0fb355e3-e9f7-4e8c-9720-8676cf0d74fb', 'state': {}, 'agent_id': None, 'original_type': 'remove_ay_agent'}, action=<ActionTypes.NEW_TASK: 'new_task'>, stats=QueueMessageStats(publish_time='2024-07-07 22:51:14', process_start_time=None, process_end_time=None), type='task_eavesdropper'),\n",
       " QueueMessage(id_='56e39708-9a34-4bf8-9e76-6669658080ff', publisher_id='default', data={'input': \"The decoded input is: 'elloh owh rea ouy'\", 'task_id': '0fb355e3-e9f7-4e8c-9720-8676cf0d74fb', 'state': {}, 'agent_id': None, 'original_type': 'correct_first_character_agent'}, action=<ActionTypes.NEW_TASK: 'new_task'>, stats=QueueMessageStats(publish_time='2024-07-07 22:51:15', process_start_time=None, process_end_time=None), type='task_eavesdropper'),\n",
       " QueueMessage(id_='24103546-ce50-4603-ba3d-f122ae586152', publisher_id='default', data={'task_id': '0fb355e3-e9f7-4e8c-9720-8676cf0d74fb', 'history': [], 'result': 'The corrected input is: \"hello how are you\"', 'data': {}, 'original_type': 'human'}, action=<ActionTypes.COMPLETED_TASK: 'completed_task'>, stats=QueueMessageStats(publish_time='2024-07-07 22:51:17', process_start_time=None, process_end_time=None), type='task_eavesdropper'),\n",
       " QueueMessage(id_='13b7a86e-1c65-42dc-9133-5daea18c6256', publisher_id='default', data={'input': \"Please decode the following input: 'ellohay owhay reaay ouyay'\", 'task_id': '128c1ab9-e82e-4575-9b2d-836d86d1111f', 'state': {}, 'agent_id': None, 'original_type': 'remove_ay_agent'}, action=<ActionTypes.NEW_TASK: 'new_task'>, stats=QueueMessageStats(publish_time='2024-07-07 22:51:49', process_start_time=None, process_end_time=None), type='task_eavesdropper'),\n",
       " QueueMessage(id_='a8930035-0643-449d-aa7d-4ce92bd89f89', publisher_id='default', data={'input': \"The decoded input is: 'elloh owh rea ouy'\", 'task_id': '128c1ab9-e82e-4575-9b2d-836d86d1111f', 'state': {}, 'agent_id': None, 'original_type': 'correct_first_character_agent'}, action=<ActionTypes.NEW_TASK: 'new_task'>, stats=QueueMessageStats(publish_time='2024-07-07 22:51:52', process_start_time=None, process_end_time=None), type='task_eavesdropper'),\n",
       " QueueMessage(id_='a64eca10-7118-4e6d-97e6-5d7ebf5637bd', publisher_id='default', data={'task_id': '128c1ab9-e82e-4575-9b2d-836d86d1111f', 'history': [], 'result': 'The corrected input is: \"hello how are you\"', 'data': {}, 'original_type': 'human'}, action=<ActionTypes.COMPLETED_TASK: 'completed_task'>, stats=QueueMessageStats(publish_time='2024-07-07 22:51:53', process_start_time=None, process_end_time=None), type='task_eavesdropper')]"
      ]
     },
     "execution_count": null,
     "metadata": {},
     "output_type": "execute_result"
    }
   ],
   "source": [
    "task_messages"
   ]
  },
  {
   "cell_type": "markdown",
   "id": "6e2eeb45-097a-4723-9f32-e73ec0770590",
   "metadata": {},
   "source": [
    "## Send Task"
   ]
  },
  {
   "cell_type": "code",
   "execution_count": null,
   "id": "cbcf9da6-c55a-4c0d-9e8e-1e20f7459b38",
   "metadata": {},
   "outputs": [],
   "source": [
    "from llama_agents import LlamaAgentsClient"
   ]
  },
  {
   "cell_type": "code",
   "execution_count": null,
   "id": "34215265-5d78-4765-8a85-d49064035395",
   "metadata": {},
   "outputs": [],
   "source": [
    "client = LlamaAgentsClient(\"http://0.0.0.0:8001\")\n",
    "task_id = client.create_task(\n",
    "    \"Please decode the following input: 'ellohay owhay reaay ouyay'\"\n",
    ")"
   ]
  },
  {
   "cell_type": "code",
   "execution_count": null,
   "id": "49b2d6ea-1dc1-496a-9a88-91bb584671e6",
   "metadata": {},
   "outputs": [
    {
     "name": "stdout",
     "output_type": "stream",
     "text": [
      "The corrected input is: \"hello how are you\"\n"
     ]
    }
   ],
   "source": [
    "task_result = client.get_task_result(task_id)\n",
    "print(task_result.result)"
   ]
  }
 ],
 "metadata": {
  "kernelspec": {
   "display_name": "task-simulation",
   "language": "python",
   "name": "task-simulation"
  },
  "language_info": {
   "codemirror_mode": {
    "name": "ipython",
    "version": 3
   },
   "file_extension": ".py",
   "mimetype": "text/x-python",
   "name": "python",
   "nbconvert_exporter": "python",
   "pygments_lexer": "ipython3"
  }
 },
 "nbformat": 4,
 "nbformat_minor": 5
}
