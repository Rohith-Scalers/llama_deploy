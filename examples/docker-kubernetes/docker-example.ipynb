{
 "cells": [
  {
   "cell_type": "code",
   "execution_count": null,
   "id": "e5b9aad9-9b98-44b7-aa80-324df8ea6de9",
   "metadata": {},
   "outputs": [],
   "source": [
    "from llama_agents import LlamaAgentsClient"
   ]
  },
  {
   "cell_type": "code",
   "execution_count": null,
   "id": "1eda47d4-0257-4006-8f9b-d0bf3f60f766",
   "metadata": {},
   "outputs": [],
   "source": [
    "client = LlamaAgentsClient(\"http://127.0.0.1:8001\")"
   ]
  },
  {
   "cell_type": "code",
   "execution_count": null,
   "id": "63042a8f-20b9-4ec1-a6cd-1dfe03770770",
   "metadata": {},
   "outputs": [
    {
     "data": {
      "text/plain": [
       "'7abc9280-be63-4b5f-ad18-e112a279aa03'"
      ]
     },
     "execution_count": null,
     "metadata": {},
     "output_type": "execute_result"
    }
   ],
   "source": [
    "client.create_task(\"Tell me a funny joke.\")"
   ]
  },
  {
   "cell_type": "code",
   "execution_count": null,
   "id": "7ae297e9-3f4b-49de-a0df-bca1c0c97a1b",
   "metadata": {},
   "outputs": [],
   "source": [
    "result = client.get_task_result(\"7abc9280-be63-4b5f-ad18-e112a279aa03\")"
   ]
  },
  {
   "cell_type": "code",
   "execution_count": null,
   "id": "dd5270fb-2ba8-4d35-9ff2-22d72ecdecde",
   "metadata": {},
   "outputs": [
    {
     "data": {
      "text/plain": [
       "TaskResult(task_id='7abc9280-be63-4b5f-ad18-e112a279aa03', history=[ChatMessage(role=<MessageRole.USER: 'user'>, content='Tell me a funny joke.', additional_kwargs={}), ChatMessage(role=<MessageRole.ASSISTANT: 'assistant'>, content='I went to the aquarium this weekend, but I didn’t stay long. There’s something fishy about that place. 😄', additional_kwargs={}), ChatMessage(role=<MessageRole.USER: 'user'>, content=\"Pick the next action to take. Invoke the 'finalize' tool with a final answer if the answer to the original input is in the chat history. As a reminder, the original input was: Tell me a funny joke.\", additional_kwargs={})], result='Tell me a funny joke.')"
      ]
     },
     "execution_count": null,
     "metadata": {},
     "output_type": "execute_result"
    }
   ],
   "source": [
    "result"
   ]
  }
 ],
 "metadata": {
  "kernelspec": {
   "display_name": "docker-llama-agents",
   "language": "python",
   "name": "docker-llama-agents"
  },
  "language_info": {
   "codemirror_mode": {
    "name": "ipython",
    "version": 3
   },
   "file_extension": ".py",
   "mimetype": "text/x-python",
   "name": "python",
   "nbconvert_exporter": "python",
   "pygments_lexer": "ipython3"
  }
 },
 "nbformat": 4,
 "nbformat_minor": 5
}
