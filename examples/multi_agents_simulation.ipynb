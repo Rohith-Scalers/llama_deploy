{
 "cells": [
  {
   "cell_type": "markdown",
   "id": "8859a81d-0772-4f7b-aa48-be00fd396423",
   "metadata": {},
   "source": [
    "# Multi-Agent Simulation"
   ]
  },
  {
   "cell_type": "code",
   "execution_count": null,
   "id": "a2754721-a209-4173-a192-bebd885d4515",
   "metadata": {},
   "outputs": [],
   "source": [
    "import nest_asyncio\n",
    "\n",
    "nest_asyncio.apply()"
   ]
  },
  {
   "cell_type": "markdown",
   "id": "3c64ab45-f23b-4658-9e5d-7c4afea9ca3a",
   "metadata": {},
   "source": [
    "## Setup Multi-Agent System"
   ]
  },
  {
   "cell_type": "code",
   "execution_count": null,
   "id": "84708d7c-0320-4778-9e3e-b52217481dbe",
   "metadata": {},
   "outputs": [],
   "source": [
    "import asyncio\n",
    "from typing import Any, List\n",
    "from llama_index.core.bridge.pydantic import PrivateAttr\n",
    "from agentfile.message_consumers.base import BaseMessageQueueConsumer\n",
    "from agentfile.message_queues.simple import SimpleMessageQueue\n",
    "from agentfile.messages.base import QueueMessage\n",
    "from datetime import datetime\n",
    "\n",
    "\n",
    "class AgentConsumer(BaseMessageQueueConsumer):\n",
    "    processed_messages: List[QueueMessage] = []\n",
    "    _lock: asyncio.Lock = PrivateAttr(default_factory=asyncio.Lock)\n",
    "    async_callback: Any = None\n",
    "\n",
    "    async def _process_message(self, message: QueueMessage, **kwargs: Any) -> None:\n",
    "        # Start service data\n",
    "        service_start_time = datetime.now()\n",
    "        wait_time = (service_start_time - message.data[\"arrival_time\"]).total_seconds()\n",
    "        message.data.update(\n",
    "            {\"service_start_time\": service_start_time, \"wait_time\": wait_time}\n",
    "        )\n",
    "\n",
    "        # Service\n",
    "        if message.type == \"A\":\n",
    "            service_rate = 2\n",
    "            startup = 0\n",
    "        else:\n",
    "            service_rate = 8\n",
    "            startup = 3\n",
    "        await asyncio.sleep(startup + np.random.exponential(service_rate))\n",
    "        print(\"Processed message.\")\n",
    "\n",
    "        # Track data\n",
    "        async with self._lock:\n",
    "            departure_time = datetime.now()\n",
    "            flow_time = (departure_time - message.data[\"arrival_time\"]).total_seconds()\n",
    "            service_time = (\n",
    "                departure_time - message.data[\"service_start_time\"]\n",
    "            ).total_seconds()\n",
    "            message.data.update(\n",
    "                {\n",
    "                    \"departure_time\": departure_time,\n",
    "                    \"service_time\": service_time,\n",
    "                    \"flow_time\": flow_time,\n",
    "                }\n",
    "            )\n",
    "            self.processed_messages.append(message)\n",
    "\n",
    "        # Publish task B if current task is A\n",
    "        if self.async_callback and message.type == \"A\":\n",
    "            await self.async_callback(message.id_)"
   ]
  },
  {
   "cell_type": "code",
   "execution_count": null,
   "id": "26ecd3b4-57de-4f77-bfb5-8b2428756e3c",
   "metadata": {},
   "outputs": [
    {
     "name": "stdout",
     "output_type": "stream",
     "text": [
      "Processed message.\n",
      "Processed message.\n",
      "Processed message.\n",
      "Processed message.\n",
      "Processed message.\n",
      "Processed message.\n"
     ]
    }
   ],
   "source": [
    "mq = SimpleMessageQueue()\n",
    "task = asyncio.create_task(mq.start())\n",
    "\n",
    "\n",
    "async def publish_B_task(parent_id):\n",
    "    # print(\"publish B task\", flush=True)\n",
    "    new_agent_task = QueueMessage(\n",
    "        type=\"B\", data={\"arrival_time\": datetime.now(), \"parent_A\": parent_id}\n",
    "    )\n",
    "    await mq.publish(new_agent_task)\n",
    "\n",
    "\n",
    "agent_consumers = [\n",
    "    AgentConsumer(message_type=\"A\", async_callback=publish_B_task),\n",
    "    AgentConsumer(message_type=\"B\"),\n",
    "]\n",
    "\n",
    "for agent_consumer in agent_consumers:\n",
    "    await mq.register_consumer(agent_consumer)"
   ]
  },
  {
   "cell_type": "markdown",
   "id": "06fe110d-d275-43c7-a8e5-3ba661d535db",
   "metadata": {},
   "source": [
    "## Simulation: Incoming Agent Tasks"
   ]
  },
  {
   "cell_type": "code",
   "execution_count": null,
   "id": "ea98983e-5cc1-4e3e-9888-57ce0e336369",
   "metadata": {},
   "outputs": [],
   "source": [
    "import asyncio\n",
    "import numpy as np\n",
    "from contextvars import ContextVar"
   ]
  },
  {
   "cell_type": "code",
   "execution_count": null,
   "id": "49a3c94b-6f2b-4891-843f-186f09871b18",
   "metadata": {},
   "outputs": [],
   "source": [
    "async def simulate_incoming_tasks(max_tasks=10):\n",
    "    task_counter: ContextVar[int] = ContextVar(\"task_counter\", default=0)\n",
    "    while True:\n",
    "        interarrival_time = np.random.exponential(5)\n",
    "        await asyncio.sleep(interarrival_time)\n",
    "        print(\"New Task Arrival\")\n",
    "        new_agent_task = QueueMessage(type=\"A\", data={\"arrival_time\": datetime.now()})\n",
    "        await mq.publish(new_agent_task)\n",
    "\n",
    "        task_counter_value = task_counter.get()\n",
    "        updated_task_counter = task_counter_value + 1\n",
    "        task_counter.set(updated_task_counter)\n",
    "        if updated_task_counter == max_tasks:\n",
    "            break"
   ]
  },
  {
   "cell_type": "code",
   "execution_count": null,
   "id": "da8f1cb6-9e6e-4a02-b9f1-8a2fcbf925e2",
   "metadata": {},
   "outputs": [
    {
     "name": "stdout",
     "output_type": "stream",
     "text": [
      "New Task Arrival\n",
      "New Task Arrival\n",
      "New Task Arrival\n"
     ]
    }
   ],
   "source": [
    "await asyncio.create_task(simulate_incoming_tasks(3))"
   ]
  },
  {
   "cell_type": "markdown",
   "id": "03b25d56-527a-4d0b-84aa-2f3e0d8c8f4b",
   "metadata": {},
   "source": [
    "### System Metrics"
   ]
  },
  {
   "cell_type": "code",
   "execution_count": null,
   "id": "e5678d9f-4544-4644-984e-690b36d08d6a",
   "metadata": {},
   "outputs": [],
   "source": [
    "import pandas as pd\n",
    "\n",
    "message_data = {\n",
    "    \"message_id\": [],\n",
    "    \"message_type\": [],\n",
    "    \"flow_times\": [],\n",
    "    \"service_times\": [],\n",
    "    \"wait_times\": [],\n",
    "    \"arrival_times\": [],\n",
    "    \"service_start_times\": [],\n",
    "    \"departure_times\": [],\n",
    "}\n",
    "\n",
    "for agent_consumer in agent_consumers:\n",
    "    message_data[\"message_id\"] += [m.id_ for m in agent_consumer.processed_messages]\n",
    "    message_data[\"message_type\"] += [m.type for m in agent_consumer.processed_messages]\n",
    "    message_data[\"flow_times\"] += [\n",
    "        m.data[\"flow_time\"] for m in agent_consumer.processed_messages\n",
    "    ]\n",
    "    message_data[\"service_times\"] += [\n",
    "        m.data[\"service_time\"] for m in agent_consumer.processed_messages\n",
    "    ]\n",
    "    message_data[\"wait_times\"] += [\n",
    "        m.data[\"wait_time\"] for m in agent_consumer.processed_messages\n",
    "    ]\n",
    "    message_data[\"arrival_times\"] += [\n",
    "        m.data[\"arrival_time\"] for m in agent_consumer.processed_messages\n",
    "    ]\n",
    "    message_data[\"service_start_times\"] += [\n",
    "        m.data[\"service_start_time\"] for m in agent_consumer.processed_messages\n",
    "    ]\n",
    "    message_data[\"departure_times\"] += [\n",
    "        m.data[\"departure_time\"] for m in agent_consumer.processed_messages\n",
    "    ]\n",
    "\n",
    "system_data = pd.DataFrame(message_data)"
   ]
  },
  {
   "cell_type": "code",
   "execution_count": null,
   "id": "85e5a2e8-ea05-449a-9381-f886d04d8903",
   "metadata": {},
   "outputs": [
    {
     "data": {
      "text/html": [
       "<div>\n",
       "<style scoped>\n",
       "    .dataframe tbody tr th:only-of-type {\n",
       "        vertical-align: middle;\n",
       "    }\n",
       "\n",
       "    .dataframe tbody tr th {\n",
       "        vertical-align: top;\n",
       "    }\n",
       "\n",
       "    .dataframe thead th {\n",
       "        text-align: right;\n",
       "    }\n",
       "</style>\n",
       "<table border=\"1\" class=\"dataframe\">\n",
       "  <thead>\n",
       "    <tr style=\"text-align: right;\">\n",
       "      <th></th>\n",
       "      <th>message_id</th>\n",
       "      <th>message_type</th>\n",
       "      <th>flow_times</th>\n",
       "      <th>service_times</th>\n",
       "      <th>wait_times</th>\n",
       "      <th>arrival_times</th>\n",
       "      <th>service_start_times</th>\n",
       "      <th>departure_times</th>\n",
       "    </tr>\n",
       "  </thead>\n",
       "  <tbody>\n",
       "    <tr>\n",
       "      <th>0</th>\n",
       "      <td>fe6eb649-e5f5-47fa-b829-0350fceec837</td>\n",
       "      <td>A</td>\n",
       "      <td>4.069600</td>\n",
       "      <td>4.002927</td>\n",
       "      <td>0.066673</td>\n",
       "      <td>2024-06-08 17:07:28.252065</td>\n",
       "      <td>2024-06-08 17:07:28.318738</td>\n",
       "      <td>2024-06-08 17:07:32.321665</td>\n",
       "    </tr>\n",
       "    <tr>\n",
       "      <th>1</th>\n",
       "      <td>ad32de58-5c9f-4e10-9628-04c66a91ce69</td>\n",
       "      <td>A</td>\n",
       "      <td>14.920089</td>\n",
       "      <td>4.227754</td>\n",
       "      <td>10.692335</td>\n",
       "      <td>2024-06-08 17:07:33.145271</td>\n",
       "      <td>2024-06-08 17:07:43.837606</td>\n",
       "      <td>2024-06-08 17:07:48.065360</td>\n",
       "    </tr>\n",
       "    <tr>\n",
       "      <th>2</th>\n",
       "      <td>9bd32a4a-cffc-4c05-a4e7-9e492b04bb8e</td>\n",
       "      <td>A</td>\n",
       "      <td>14.891336</td>\n",
       "      <td>0.824007</td>\n",
       "      <td>14.067329</td>\n",
       "      <td>2024-06-08 17:07:37.471043</td>\n",
       "      <td>2024-06-08 17:07:51.538372</td>\n",
       "      <td>2024-06-08 17:07:52.362379</td>\n",
       "    </tr>\n",
       "    <tr>\n",
       "      <th>3</th>\n",
       "      <td>889e106b-e43e-4d49-831d-6d9f03561c27</td>\n",
       "      <td>B</td>\n",
       "      <td>11.414479</td>\n",
       "      <td>11.414194</td>\n",
       "      <td>0.000285</td>\n",
       "      <td>2024-06-08 17:07:32.321731</td>\n",
       "      <td>2024-06-08 17:07:32.322016</td>\n",
       "      <td>2024-06-08 17:07:43.736210</td>\n",
       "    </tr>\n",
       "    <tr>\n",
       "      <th>4</th>\n",
       "      <td>f5e646a6-1249-41c9-856e-e7cb2e6e3111</td>\n",
       "      <td>B</td>\n",
       "      <td>3.372360</td>\n",
       "      <td>3.371525</td>\n",
       "      <td>0.000835</td>\n",
       "      <td>2024-06-08 17:07:48.065428</td>\n",
       "      <td>2024-06-08 17:07:48.066263</td>\n",
       "      <td>2024-06-08 17:07:51.437788</td>\n",
       "    </tr>\n",
       "    <tr>\n",
       "      <th>5</th>\n",
       "      <td>9b8315f9-f9d7-4d9e-a994-133512aaa583</td>\n",
       "      <td>B</td>\n",
       "      <td>7.626466</td>\n",
       "      <td>7.625623</td>\n",
       "      <td>0.000843</td>\n",
       "      <td>2024-06-08 17:07:52.362445</td>\n",
       "      <td>2024-06-08 17:07:52.363288</td>\n",
       "      <td>2024-06-08 17:07:59.988911</td>\n",
       "    </tr>\n",
       "  </tbody>\n",
       "</table>\n",
       "</div>"
      ],
      "text/plain": [
       "                             message_id message_type  flow_times  \\\n",
       "0  fe6eb649-e5f5-47fa-b829-0350fceec837            A    4.069600   \n",
       "1  ad32de58-5c9f-4e10-9628-04c66a91ce69            A   14.920089   \n",
       "2  9bd32a4a-cffc-4c05-a4e7-9e492b04bb8e            A   14.891336   \n",
       "3  889e106b-e43e-4d49-831d-6d9f03561c27            B   11.414479   \n",
       "4  f5e646a6-1249-41c9-856e-e7cb2e6e3111            B    3.372360   \n",
       "5  9b8315f9-f9d7-4d9e-a994-133512aaa583            B    7.626466   \n",
       "\n",
       "   service_times  wait_times              arrival_times  \\\n",
       "0       4.002927    0.066673 2024-06-08 17:07:28.252065   \n",
       "1       4.227754   10.692335 2024-06-08 17:07:33.145271   \n",
       "2       0.824007   14.067329 2024-06-08 17:07:37.471043   \n",
       "3      11.414194    0.000285 2024-06-08 17:07:32.321731   \n",
       "4       3.371525    0.000835 2024-06-08 17:07:48.065428   \n",
       "5       7.625623    0.000843 2024-06-08 17:07:52.362445   \n",
       "\n",
       "         service_start_times            departure_times  \n",
       "0 2024-06-08 17:07:28.318738 2024-06-08 17:07:32.321665  \n",
       "1 2024-06-08 17:07:43.837606 2024-06-08 17:07:48.065360  \n",
       "2 2024-06-08 17:07:51.538372 2024-06-08 17:07:52.362379  \n",
       "3 2024-06-08 17:07:32.322016 2024-06-08 17:07:43.736210  \n",
       "4 2024-06-08 17:07:48.066263 2024-06-08 17:07:51.437788  \n",
       "5 2024-06-08 17:07:52.363288 2024-06-08 17:07:59.988911  "
      ]
     },
     "execution_count": null,
     "metadata": {},
     "output_type": "execute_result"
    }
   ],
   "source": [
    "system_data"
   ]
  },
  {
   "cell_type": "code",
   "execution_count": null,
   "id": "231b437b-c327-439d-8876-001c8406841f",
   "metadata": {},
   "outputs": [
    {
     "data": {
      "text/plain": [
       "flow_times       4.836974\n",
       "service_times    3.176480\n",
       "wait_times       1.660494\n",
       "dtype: float64"
      ]
     },
     "execution_count": null,
     "metadata": {},
     "output_type": "execute_result"
    }
   ],
   "source": [
    "metric_cols = [\"flow_times\", \"service_times\", \"wait_times\"]\n",
    "system_data[metric_cols].mean()"
   ]
  },
  {
   "cell_type": "code",
   "execution_count": null,
   "id": "4f76d79c-d2e4-443c-b195-b14a5d64351b",
   "metadata": {},
   "outputs": [
    {
     "data": {
      "text/html": [
       "<div>\n",
       "<style scoped>\n",
       "    .dataframe tbody tr th:only-of-type {\n",
       "        vertical-align: middle;\n",
       "    }\n",
       "\n",
       "    .dataframe tbody tr th {\n",
       "        vertical-align: top;\n",
       "    }\n",
       "\n",
       "    .dataframe thead th {\n",
       "        text-align: right;\n",
       "    }\n",
       "</style>\n",
       "<table border=\"1\" class=\"dataframe\">\n",
       "  <thead>\n",
       "    <tr style=\"text-align: right;\">\n",
       "      <th></th>\n",
       "      <th>flow_times</th>\n",
       "      <th>service_times</th>\n",
       "      <th>wait_times</th>\n",
       "    </tr>\n",
       "    <tr>\n",
       "      <th>message_type</th>\n",
       "      <th></th>\n",
       "      <th></th>\n",
       "      <th></th>\n",
       "    </tr>\n",
       "  </thead>\n",
       "  <tbody>\n",
       "    <tr>\n",
       "      <th>A</th>\n",
       "      <td>6.311056</td>\n",
       "      <td>2.991006</td>\n",
       "      <td>3.320050</td>\n",
       "    </tr>\n",
       "    <tr>\n",
       "      <th>B</th>\n",
       "      <td>3.362892</td>\n",
       "      <td>3.361955</td>\n",
       "      <td>0.000937</td>\n",
       "    </tr>\n",
       "  </tbody>\n",
       "</table>\n",
       "</div>"
      ],
      "text/plain": [
       "              flow_times  service_times  wait_times\n",
       "message_type                                       \n",
       "A               6.311056       2.991006    3.320050\n",
       "B               3.362892       3.361955    0.000937"
      ]
     },
     "execution_count": null,
     "metadata": {},
     "output_type": "execute_result"
    }
   ],
   "source": [
    "system_data.groupby(\"message_type\")[metric_cols].mean()"
   ]
  },
  {
   "cell_type": "code",
   "execution_count": null,
   "id": "32a709de-43dd-46dc-9aeb-49da28075f52",
   "metadata": {},
   "outputs": [
    {
     "data": {
      "text/plain": [
       "AgentConsumer(id_='3bc4380e-fb99-4698-b8f2-ddf33b866831', message_type='B', processed_messages=[QueueMessage(id_='cead17d5-df84-44cd-9442-4db99d94defc', data={'arrival_time': datetime.datetime(2024, 6, 8, 16, 58, 26, 258449), 'parent_A': '7b4a236c-8da0-4952-b5f8-e1eb4a51c62b', 'service_start_time': datetime.datetime(2024, 6, 8, 16, 58, 26, 258875), 'wait_time': 0.000426, 'departure_time': datetime.datetime(2024, 6, 8, 16, 58, 28, 224559), 'service_time': 1.965684, 'flow_time': 1.96611}, action=None, type='B'), QueueMessage(id_='ffeef176-e175-4e36-b171-5934a2c7c209', data={'arrival_time': datetime.datetime(2024, 6, 8, 16, 58, 29, 417147), 'parent_A': 'eab252fa-e77b-48df-9f47-6a10880a21ae', 'service_start_time': datetime.datetime(2024, 6, 8, 16, 58, 29, 418071), 'wait_time': 0.000924, 'departure_time': datetime.datetime(2024, 6, 8, 16, 58, 50, 322760), 'service_time': 20.904689, 'flow_time': 20.905613}, action=None, type='B'), QueueMessage(id_='8d6f9306-64ae-457d-bea9-a54e90d905ed', data={'arrival_time': datetime.datetime(2024, 6, 8, 16, 58, 57, 112852), 'parent_A': 'd89e296d-289e-4614-bbaf-c2ff929c4cb2', 'service_start_time': datetime.datetime(2024, 6, 8, 16, 58, 57, 113308), 'wait_time': 0.000456, 'departure_time': datetime.datetime(2024, 6, 8, 16, 59, 1, 623920), 'service_time': 4.510612, 'flow_time': 4.511068}, action=None, type='B')], async_callback=None)"
      ]
     },
     "execution_count": null,
     "metadata": {},
     "output_type": "execute_result"
    }
   ],
   "source": [
    "agent_consumers[1]"
   ]
  }
 ],
 "metadata": {
  "kernelspec": {
   "display_name": "llama-agents",
   "language": "python",
   "name": "llama-agents"
  },
  "language_info": {
   "codemirror_mode": {
    "name": "ipython",
    "version": 3
   },
   "file_extension": ".py",
   "mimetype": "text/x-python",
   "name": "python",
   "nbconvert_exporter": "python",
   "pygments_lexer": "ipython3"
  }
 },
 "nbformat": 4,
 "nbformat_minor": 5
}
