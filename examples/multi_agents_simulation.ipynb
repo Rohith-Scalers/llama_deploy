{
 "cells": [
  {
   "cell_type": "markdown",
   "id": "8859a81d-0772-4f7b-aa48-be00fd396423",
   "metadata": {},
   "source": [
    "# Multi-Agent Simulation"
   ]
  },
  {
   "cell_type": "code",
   "execution_count": null,
   "id": "695cfb6c-947e-43af-a8a5-e761baf3d883",
   "metadata": {},
   "outputs": [
    {
     "name": "stdout",
     "output_type": "stream",
     "text": [
      "Note: you may need to restart the kernel to use updated packages.\n"
     ]
    }
   ],
   "source": [
    "%pip install llama-index-program-openai -q"
   ]
  },
  {
   "cell_type": "code",
   "execution_count": null,
   "id": "a2754721-a209-4173-a192-bebd885d4515",
   "metadata": {},
   "outputs": [],
   "source": [
    "import nest_asyncio\n",
    "\n",
    "nest_asyncio.apply()"
   ]
  },
  {
   "cell_type": "markdown",
   "id": "3c64ab45-f23b-4658-9e5d-7c4afea9ca3a",
   "metadata": {},
   "source": [
    "## Setup Multi-Agent System"
   ]
  },
  {
   "cell_type": "code",
   "execution_count": null,
   "id": "127f7beb-171c-42f8-9533-350af69603dd",
   "metadata": {},
   "outputs": [],
   "source": [
    "from agentfile.launchers.local import LocalLauncher\n",
    "from agentfile.agent_server.fastapi import FastAPIAgentServer\n",
    "from agentfile.control_plane.fastapi import FastAPIControlPlane\n",
    "from agentfile.message_queues.simple import SimpleMessageQueue\n",
    "\n",
    "from llama_index.core.agent import FunctionCallingAgentWorker\n",
    "from llama_index.core.tools import FunctionTool\n",
    "from llama_index.llms.openai import OpenAI"
   ]
  },
  {
   "cell_type": "code",
   "execution_count": null,
   "id": "23207666-5bd1-4a1e-8dfe-4886ff50e32f",
   "metadata": {},
   "outputs": [],
   "source": [
    "import asyncio\n",
    "import time\n",
    "import numpy as np\n",
    "\n",
    "\n",
    "# create agents\n",
    "def get_the_secret_fact() -> str:\n",
    "    \"\"\"Returns the secret fact.\"\"\"\n",
    "    time.sleep(2)\n",
    "    return \"The secret fact is: A baby llama is called a 'Cria'.\"\n",
    "\n",
    "\n",
    "# create agents\n",
    "async def aget_the_secret_fact() -> str:\n",
    "    \"\"\"Returns the secret fact.\"\"\"\n",
    "    await asyncio.sleep(2)\n",
    "    return \"The secret fact is: A baby llama is called a 'Cria'.\"\n",
    "\n",
    "\n",
    "def cant_get_secret_fact() -> str:\n",
    "    \"\"\"Doesn't return secret fact.\"\"\"\n",
    "    time.sleep(8)\n",
    "    return \"I don't know much, tbh.\"\n",
    "\n",
    "\n",
    "async def acant_get_secret_fact() -> str:\n",
    "    \"\"\"Doesn't return secret fact.\"\"\"\n",
    "    await asyncio.sleep(8)\n",
    "    return \"I don't know much, tbh.\"\n",
    "\n",
    "\n",
    "secret_tool = FunctionTool.from_defaults(\n",
    "    fn=get_the_secret_fact, async_fn=aget_the_secret_fact\n",
    ")\n",
    "dumb_tool = FunctionTool.from_defaults(\n",
    "    fn=cant_get_secret_fact, async_fn=acant_get_secret_fact\n",
    ")\n",
    "\n",
    "agent1 = FunctionCallingAgentWorker.from_tools([secret_tool], llm=OpenAI()).as_agent()\n",
    "agent2 = FunctionCallingAgentWorker.from_tools([dumb_tool], llm=OpenAI()).as_agent()\n",
    "\n",
    "message_queue = SimpleMessageQueue()\n",
    "control_plane = FastAPIControlPlane(message_queue=message_queue)\n",
    "agent_server_1 = FastAPIAgentServer(\n",
    "    agent1,\n",
    "    message_queue,\n",
    "    description=\"Knows what the secret fact is.\",\n",
    "    agent_id=\"secret_fact_agent\",\n",
    ")\n",
    "agent_server_2 = FastAPIAgentServer(\n",
    "    agent2,\n",
    "    message_queue,\n",
    "    description=\"Doesn't know what the secret fact is.\",\n",
    "    agent_id=\"dumb_fact_agent\",\n",
    ")\n",
    "# # launch it\n",
    "# launcher = LocalLauncher([agent_server_1, agent_server_2], control_plane, message_queue)\n",
    "# launcher.launch_single(\"What is the secret fact?\")"
   ]
  },
  {
   "cell_type": "code",
   "execution_count": null,
   "id": "303db78d-ee6b-42ef-8494-b3897f162c55",
   "metadata": {},
   "outputs": [
    {
     "name": "stderr",
     "output_type": "stream",
     "text": [
      "INFO:httpx:HTTP Request: POST https://api.openai.com/v1/embeddings \"HTTP/1.1 200 OK\"\n",
      "INFO:httpx:HTTP Request: POST https://api.openai.com/v1/embeddings \"HTTP/1.1 200 OK\"\n",
      "INFO:httpx:HTTP Request: POST https://api.openai.com/v1/embeddings \"HTTP/1.1 200 OK\"\n",
      "INFO:httpx:HTTP Request: POST https://api.openai.com/v1/chat/completions \"HTTP/1.1 200 OK\"\n",
      "INFO:agentfile.message_queues.base:Publishing message: id_='b38b83a8-79ac-41f9-abb6-ebce8c2d3efa' data={'input': 'What is the secret fact?', 'task_id': 'c11269d4-acaf-4289-b54d-e113d78b7d55', 'agent_id': None} action=<ActionTypes.NEW_TASK: 'new_task'> type='secret_fact_agent'\n",
      "INFO:httpx:HTTP Request: POST https://api.openai.com/v1/chat/completions \"HTTP/1.1 200 OK\"\n",
      "INFO:httpx:HTTP Request: POST https://api.openai.com/v1/chat/completions \"HTTP/1.1 200 OK\"\n",
      "INFO:agentfile.message_queues.base:Publishing message: id_='e23bbbac-2dc8-467a-be62-5799520b1108' data={'task_id': 'c11269d4-acaf-4289-b54d-e113d78b7d55', 'history': [{'role': <MessageRole.USER: 'user'>, 'content': 'What is the secret fact?', 'additional_kwargs': {}}, {'role': <MessageRole.ASSISTANT: 'assistant'>, 'content': None, 'additional_kwargs': {'tool_calls': [{'id': 'call_dnNWegCDrSOKcRURvaqi7XFW', 'function': {'arguments': '{}', 'name': 'get_the_secret_fact'}, 'type': 'function'}]}}, {'role': <MessageRole.TOOL: 'tool'>, 'content': \"The secret fact is: A baby llama is called a 'Cria'.\", 'additional_kwargs': {'name': 'get_the_secret_fact', 'tool_call_id': 'call_dnNWegCDrSOKcRURvaqi7XFW'}}, {'role': <MessageRole.ASSISTANT: 'assistant'>, 'content': \"The secret fact is: A baby llama is called a 'Cria'.\", 'additional_kwargs': {}}], 'result': \"The secret fact is: A baby llama is called a 'Cria'.\"} action=<ActionTypes.COMPLETED_TASK: 'completed_task'> type='control_plane'\n",
      "INFO:agentfile.message_queues.base:Publishing message: id_='51268cf8-0915-4a9a-b66d-4ec292ea35c4' data=\"The secret fact is: A baby llama is called a 'Cria'.\" action=<ActionTypes.COMPLETED_TASK: 'completed_task'> type='human'\n"
     ]
    },
    {
     "name": "stdout",
     "output_type": "stream",
     "text": [
      "Got response:\n",
      " {'result': \"The secret fact is: A baby llama is called a 'Cria'.\"}\n"
     ]
    },
    {
     "name": "stderr",
     "output_type": "stream",
     "text": [
      "INFO:httpx:HTTP Request: POST https://api.openai.com/v1/embeddings \"HTTP/1.1 200 OK\"\n",
      "INFO:httpx:HTTP Request: POST https://api.openai.com/v1/chat/completions \"HTTP/1.1 200 OK\"\n",
      "INFO:agentfile.message_queues.base:Publishing message: id_='ae38164f-4957-489d-af2f-70c177186ea8' data={'input': 'What is the secret fact?', 'task_id': 'a3c92fc8-6ef2-4ed8-96f3-93f9d3914326', 'agent_id': None} action=<ActionTypes.NEW_TASK: 'new_task'> type='secret_fact_agent'\n",
      "INFO:httpx:HTTP Request: POST https://api.openai.com/v1/chat/completions \"HTTP/1.1 200 OK\"\n",
      "INFO:httpx:HTTP Request: POST https://api.openai.com/v1/chat/completions \"HTTP/1.1 200 OK\"\n",
      "INFO:agentfile.message_queues.base:Publishing message: id_='9bfab017-688a-4bd3-b974-0328c0596505' data={'task_id': 'a3c92fc8-6ef2-4ed8-96f3-93f9d3914326', 'history': [{'role': <MessageRole.USER: 'user'>, 'content': 'What is the secret fact?', 'additional_kwargs': {}}, {'role': <MessageRole.ASSISTANT: 'assistant'>, 'content': None, 'additional_kwargs': {'tool_calls': [{'id': 'call_dnNWegCDrSOKcRURvaqi7XFW', 'function': {'arguments': '{}', 'name': 'get_the_secret_fact'}, 'type': 'function'}]}}, {'role': <MessageRole.TOOL: 'tool'>, 'content': \"The secret fact is: A baby llama is called a 'Cria'.\", 'additional_kwargs': {'name': 'get_the_secret_fact', 'tool_call_id': 'call_dnNWegCDrSOKcRURvaqi7XFW'}}, {'role': <MessageRole.ASSISTANT: 'assistant'>, 'content': \"The secret fact is: A baby llama is called a 'Cria'.\", 'additional_kwargs': {}}, {'role': <MessageRole.USER: 'user'>, 'content': 'What is the secret fact?', 'additional_kwargs': {}}, {'role': <MessageRole.ASSISTANT: 'assistant'>, 'content': None, 'additional_kwargs': {'tool_calls': [{'id': 'call_zLwQZCqcSptE9128jIrP6jqg', 'function': {'arguments': '{}', 'name': 'get_the_secret_fact'}, 'type': 'function'}]}}, {'role': <MessageRole.TOOL: 'tool'>, 'content': \"The secret fact is: A baby llama is called a 'Cria'.\", 'additional_kwargs': {'name': 'get_the_secret_fact', 'tool_call_id': 'call_zLwQZCqcSptE9128jIrP6jqg'}}, {'role': <MessageRole.ASSISTANT: 'assistant'>, 'content': \"The secret fact is: A baby llama is called a 'Cria'.\", 'additional_kwargs': {}}], 'result': \"The secret fact is: A baby llama is called a 'Cria'.\"} action=<ActionTypes.COMPLETED_TASK: 'completed_task'> type='control_plane'\n",
      "INFO:agentfile.message_queues.base:Publishing message: id_='05d4efc6-732a-492e-a5d0-f028f206019e' data=\"The secret fact is: A baby llama is called a 'Cria'.\" action=<ActionTypes.COMPLETED_TASK: 'completed_task'> type='human'\n"
     ]
    },
    {
     "name": "stdout",
     "output_type": "stream",
     "text": [
      "Got response:\n",
      " {'result': \"The secret fact is: A baby llama is called a 'Cria'.\"}\n"
     ]
    }
   ],
   "source": [
    "# Manual Launch\n",
    "launcher = LocalLauncher([agent_server_1, agent_server_2], control_plane, message_queue)\n",
    "\n",
    "# register each agent to the control plane\n",
    "for agent_server in launcher.agent_servers:\n",
    "    await launcher.control_plane.register_agent(agent_server.agent_definition)\n",
    "\n",
    "# start agents\n",
    "for agent_server in launcher.agent_servers:\n",
    "    asyncio.create_task(agent_server.start_processing_loop())\n",
    "\n",
    "# runs until the message queue is stopped by the human consumer\n",
    "mq_task = asyncio.create_task(launcher.message_queue.start())"
   ]
  },
  {
   "cell_type": "markdown",
   "id": "06fe110d-d275-43c7-a8e5-3ba661d535db",
   "metadata": {},
   "source": [
    "## Simulation: Incoming Agent Tasks"
   ]
  },
  {
   "cell_type": "code",
   "execution_count": null,
   "id": "ea98983e-5cc1-4e3e-9888-57ce0e336369",
   "metadata": {},
   "outputs": [],
   "source": [
    "import asyncio\n",
    "import numpy as np\n",
    "from contextvars import ContextVar\n",
    "from datetime import datetime"
   ]
  },
  {
   "cell_type": "code",
   "execution_count": null,
   "id": "7776b9ce-8709-4c0c-bbf4-47699032c769",
   "metadata": {},
   "outputs": [],
   "source": [
    "from agentfile.launchers.local import HumanMessageConsumer\n",
    "from agentfile.types import ActionTypes, TaskDefinition\n",
    "from agentfile.messages.base import QueueMessage\n",
    "\n",
    "# register human consumer\n",
    "human_consumer = HumanMessageConsumer(\n",
    "    message_handler={\n",
    "        ActionTypes.COMPLETED_TASK: launcher.handle_human_message,\n",
    "    }\n",
    ")\n",
    "await launcher.register_consumers([human_consumer])"
   ]
  },
  {
   "cell_type": "code",
   "execution_count": null,
   "id": "49a3c94b-6f2b-4891-843f-186f09871b18",
   "metadata": {},
   "outputs": [],
   "source": [
    "async def simulate_incoming_tasks(max_tasks=10):\n",
    "    task_counter: ContextVar[int] = ContextVar(\"task_counter\", default=0)\n",
    "    while True:\n",
    "        # simulate arrival of task\n",
    "        interarrival_time = np.random.exponential(5)\n",
    "        await asyncio.sleep(interarrival_time)\n",
    "        print(\"New Task Arrival\")\n",
    "\n",
    "        # publish initial task\n",
    "        data = TaskDefinition(input=\"What is the secret fact?\").dict()\n",
    "        data.update({\"arrival_time\": datetime.now()})\n",
    "        await launcher.message_queue.publish(\n",
    "            QueueMessage(\n",
    "                type=\"control_plane\",\n",
    "                action=ActionTypes.NEW_TASK,\n",
    "                data=data,\n",
    "            )\n",
    "        )\n",
    "\n",
    "        task_counter_value = task_counter.get()\n",
    "        updated_task_counter = task_counter_value + 1\n",
    "        task_counter.set(updated_task_counter)\n",
    "        if updated_task_counter == max_tasks:\n",
    "            break"
   ]
  },
  {
   "cell_type": "code",
   "execution_count": null,
   "id": "da8f1cb6-9e6e-4a02-b9f1-8a2fcbf925e2",
   "metadata": {},
   "outputs": [
    {
     "name": "stderr",
     "output_type": "stream",
     "text": [
      "INFO:agentfile.message_queues.base:Publishing message: id_='f0f48c4f-a904-438c-958c-38ffdcb19a0e' data={'input': 'What is the secret fact?', 'task_id': 'c11269d4-acaf-4289-b54d-e113d78b7d55', 'agent_id': None, 'arrival_time': datetime.datetime(2024, 6, 9, 18, 31, 32, 516284)} action=<ActionTypes.NEW_TASK: 'new_task'> type='control_plane'\n"
     ]
    },
    {
     "name": "stdout",
     "output_type": "stream",
     "text": [
      "New Task Arrival\n"
     ]
    },
    {
     "name": "stderr",
     "output_type": "stream",
     "text": [
      "INFO:agentfile.message_queues.base:Publishing message: id_='6d3291a6-6688-4d18-93f1-bdc43651b447' data={'input': 'What is the secret fact?', 'task_id': 'a3c92fc8-6ef2-4ed8-96f3-93f9d3914326', 'agent_id': None, 'arrival_time': datetime.datetime(2024, 6, 9, 18, 31, 43, 166292)} action=<ActionTypes.NEW_TASK: 'new_task'> type='control_plane'\n"
     ]
    },
    {
     "name": "stdout",
     "output_type": "stream",
     "text": [
      "New Task Arrival\n"
     ]
    }
   ],
   "source": [
    "await asyncio.create_task(simulate_incoming_tasks(2))"
   ]
  },
  {
   "cell_type": "code",
   "execution_count": null,
   "id": "b4ab62aa-f434-443f-b70f-0831a2d5912e",
   "metadata": {},
   "outputs": [
    {
     "data": {
      "text/plain": [
       "{'secret_fact_agent': deque([]),\n",
       " 'dumb_fact_agent': deque([]),\n",
       " 'human': deque([]),\n",
       " 'control_plane': deque([])}"
      ]
     },
     "execution_count": null,
     "metadata": {},
     "output_type": "execute_result"
    }
   ],
   "source": [
    "launcher.message_queue.queues"
   ]
  },
  {
   "cell_type": "markdown",
   "id": "03b25d56-527a-4d0b-84aa-2f3e0d8c8f4b",
   "metadata": {},
   "source": [
    "### System Metrics"
   ]
  },
  {
   "cell_type": "code",
   "execution_count": null,
   "id": "e5678d9f-4544-4644-984e-690b36d08d6a",
   "metadata": {},
   "outputs": [],
   "source": [
    "import pandas as pd\n",
    "\n",
    "message_data = {\n",
    "    \"message_id\": [],\n",
    "    \"message_type\": [],\n",
    "    \"flow_times\": [],\n",
    "    \"service_times\": [],\n",
    "    \"wait_times\": [],\n",
    "    \"arrival_times\": [],\n",
    "    \"service_start_times\": [],\n",
    "    \"departure_times\": [],\n",
    "}\n",
    "\n",
    "for agent_consumer in agent_consumers:\n",
    "    message_data[\"message_id\"] += [m.id_ for m in agent_consumer.processed_messages]\n",
    "    message_data[\"message_type\"] += [m.type for m in agent_consumer.processed_messages]\n",
    "    message_data[\"flow_times\"] += [\n",
    "        m.data[\"flow_time\"] for m in agent_consumer.processed_messages\n",
    "    ]\n",
    "    message_data[\"service_times\"] += [\n",
    "        m.data[\"service_time\"] for m in agent_consumer.processed_messages\n",
    "    ]\n",
    "    message_data[\"wait_times\"] += [\n",
    "        m.data[\"wait_time\"] for m in agent_consumer.processed_messages\n",
    "    ]\n",
    "    message_data[\"arrival_times\"] += [\n",
    "        m.data[\"arrival_time\"] for m in agent_consumer.processed_messages\n",
    "    ]\n",
    "    message_data[\"service_start_times\"] += [\n",
    "        m.data[\"service_start_time\"] for m in agent_consumer.processed_messages\n",
    "    ]\n",
    "    message_data[\"departure_times\"] += [\n",
    "        m.data[\"departure_time\"] for m in agent_consumer.processed_messages\n",
    "    ]\n",
    "\n",
    "system_data = pd.DataFrame(message_data)"
   ]
  },
  {
   "cell_type": "code",
   "execution_count": null,
   "id": "85e5a2e8-ea05-449a-9381-f886d04d8903",
   "metadata": {},
   "outputs": [
    {
     "data": {
      "text/html": [
       "<div>\n",
       "<style scoped>\n",
       "    .dataframe tbody tr th:only-of-type {\n",
       "        vertical-align: middle;\n",
       "    }\n",
       "\n",
       "    .dataframe tbody tr th {\n",
       "        vertical-align: top;\n",
       "    }\n",
       "\n",
       "    .dataframe thead th {\n",
       "        text-align: right;\n",
       "    }\n",
       "</style>\n",
       "<table border=\"1\" class=\"dataframe\">\n",
       "  <thead>\n",
       "    <tr style=\"text-align: right;\">\n",
       "      <th></th>\n",
       "      <th>message_id</th>\n",
       "      <th>message_type</th>\n",
       "      <th>flow_times</th>\n",
       "      <th>service_times</th>\n",
       "      <th>wait_times</th>\n",
       "      <th>arrival_times</th>\n",
       "      <th>service_start_times</th>\n",
       "      <th>departure_times</th>\n",
       "    </tr>\n",
       "  </thead>\n",
       "  <tbody>\n",
       "    <tr>\n",
       "      <th>0</th>\n",
       "      <td>fe6eb649-e5f5-47fa-b829-0350fceec837</td>\n",
       "      <td>A</td>\n",
       "      <td>4.069600</td>\n",
       "      <td>4.002927</td>\n",
       "      <td>0.066673</td>\n",
       "      <td>2024-06-08 17:07:28.252065</td>\n",
       "      <td>2024-06-08 17:07:28.318738</td>\n",
       "      <td>2024-06-08 17:07:32.321665</td>\n",
       "    </tr>\n",
       "    <tr>\n",
       "      <th>1</th>\n",
       "      <td>ad32de58-5c9f-4e10-9628-04c66a91ce69</td>\n",
       "      <td>A</td>\n",
       "      <td>14.920089</td>\n",
       "      <td>4.227754</td>\n",
       "      <td>10.692335</td>\n",
       "      <td>2024-06-08 17:07:33.145271</td>\n",
       "      <td>2024-06-08 17:07:43.837606</td>\n",
       "      <td>2024-06-08 17:07:48.065360</td>\n",
       "    </tr>\n",
       "    <tr>\n",
       "      <th>2</th>\n",
       "      <td>9bd32a4a-cffc-4c05-a4e7-9e492b04bb8e</td>\n",
       "      <td>A</td>\n",
       "      <td>14.891336</td>\n",
       "      <td>0.824007</td>\n",
       "      <td>14.067329</td>\n",
       "      <td>2024-06-08 17:07:37.471043</td>\n",
       "      <td>2024-06-08 17:07:51.538372</td>\n",
       "      <td>2024-06-08 17:07:52.362379</td>\n",
       "    </tr>\n",
       "    <tr>\n",
       "      <th>3</th>\n",
       "      <td>889e106b-e43e-4d49-831d-6d9f03561c27</td>\n",
       "      <td>B</td>\n",
       "      <td>11.414479</td>\n",
       "      <td>11.414194</td>\n",
       "      <td>0.000285</td>\n",
       "      <td>2024-06-08 17:07:32.321731</td>\n",
       "      <td>2024-06-08 17:07:32.322016</td>\n",
       "      <td>2024-06-08 17:07:43.736210</td>\n",
       "    </tr>\n",
       "    <tr>\n",
       "      <th>4</th>\n",
       "      <td>f5e646a6-1249-41c9-856e-e7cb2e6e3111</td>\n",
       "      <td>B</td>\n",
       "      <td>3.372360</td>\n",
       "      <td>3.371525</td>\n",
       "      <td>0.000835</td>\n",
       "      <td>2024-06-08 17:07:48.065428</td>\n",
       "      <td>2024-06-08 17:07:48.066263</td>\n",
       "      <td>2024-06-08 17:07:51.437788</td>\n",
       "    </tr>\n",
       "    <tr>\n",
       "      <th>5</th>\n",
       "      <td>9b8315f9-f9d7-4d9e-a994-133512aaa583</td>\n",
       "      <td>B</td>\n",
       "      <td>7.626466</td>\n",
       "      <td>7.625623</td>\n",
       "      <td>0.000843</td>\n",
       "      <td>2024-06-08 17:07:52.362445</td>\n",
       "      <td>2024-06-08 17:07:52.363288</td>\n",
       "      <td>2024-06-08 17:07:59.988911</td>\n",
       "    </tr>\n",
       "  </tbody>\n",
       "</table>\n",
       "</div>"
      ],
      "text/plain": [
       "                             message_id message_type  flow_times  \\\n",
       "0  fe6eb649-e5f5-47fa-b829-0350fceec837            A    4.069600   \n",
       "1  ad32de58-5c9f-4e10-9628-04c66a91ce69            A   14.920089   \n",
       "2  9bd32a4a-cffc-4c05-a4e7-9e492b04bb8e            A   14.891336   \n",
       "3  889e106b-e43e-4d49-831d-6d9f03561c27            B   11.414479   \n",
       "4  f5e646a6-1249-41c9-856e-e7cb2e6e3111            B    3.372360   \n",
       "5  9b8315f9-f9d7-4d9e-a994-133512aaa583            B    7.626466   \n",
       "\n",
       "   service_times  wait_times              arrival_times  \\\n",
       "0       4.002927    0.066673 2024-06-08 17:07:28.252065   \n",
       "1       4.227754   10.692335 2024-06-08 17:07:33.145271   \n",
       "2       0.824007   14.067329 2024-06-08 17:07:37.471043   \n",
       "3      11.414194    0.000285 2024-06-08 17:07:32.321731   \n",
       "4       3.371525    0.000835 2024-06-08 17:07:48.065428   \n",
       "5       7.625623    0.000843 2024-06-08 17:07:52.362445   \n",
       "\n",
       "         service_start_times            departure_times  \n",
       "0 2024-06-08 17:07:28.318738 2024-06-08 17:07:32.321665  \n",
       "1 2024-06-08 17:07:43.837606 2024-06-08 17:07:48.065360  \n",
       "2 2024-06-08 17:07:51.538372 2024-06-08 17:07:52.362379  \n",
       "3 2024-06-08 17:07:32.322016 2024-06-08 17:07:43.736210  \n",
       "4 2024-06-08 17:07:48.066263 2024-06-08 17:07:51.437788  \n",
       "5 2024-06-08 17:07:52.363288 2024-06-08 17:07:59.988911  "
      ]
     },
     "execution_count": null,
     "metadata": {},
     "output_type": "execute_result"
    }
   ],
   "source": [
    "system_data"
   ]
  },
  {
   "cell_type": "code",
   "execution_count": null,
   "id": "231b437b-c327-439d-8876-001c8406841f",
   "metadata": {},
   "outputs": [
    {
     "data": {
      "text/plain": [
       "flow_times       4.836974\n",
       "service_times    3.176480\n",
       "wait_times       1.660494\n",
       "dtype: float64"
      ]
     },
     "execution_count": null,
     "metadata": {},
     "output_type": "execute_result"
    }
   ],
   "source": [
    "metric_cols = [\"flow_times\", \"service_times\", \"wait_times\"]\n",
    "system_data[metric_cols].mean()"
   ]
  },
  {
   "cell_type": "code",
   "execution_count": null,
   "id": "4f76d79c-d2e4-443c-b195-b14a5d64351b",
   "metadata": {},
   "outputs": [
    {
     "data": {
      "text/html": [
       "<div>\n",
       "<style scoped>\n",
       "    .dataframe tbody tr th:only-of-type {\n",
       "        vertical-align: middle;\n",
       "    }\n",
       "\n",
       "    .dataframe tbody tr th {\n",
       "        vertical-align: top;\n",
       "    }\n",
       "\n",
       "    .dataframe thead th {\n",
       "        text-align: right;\n",
       "    }\n",
       "</style>\n",
       "<table border=\"1\" class=\"dataframe\">\n",
       "  <thead>\n",
       "    <tr style=\"text-align: right;\">\n",
       "      <th></th>\n",
       "      <th>flow_times</th>\n",
       "      <th>service_times</th>\n",
       "      <th>wait_times</th>\n",
       "    </tr>\n",
       "    <tr>\n",
       "      <th>message_type</th>\n",
       "      <th></th>\n",
       "      <th></th>\n",
       "      <th></th>\n",
       "    </tr>\n",
       "  </thead>\n",
       "  <tbody>\n",
       "    <tr>\n",
       "      <th>A</th>\n",
       "      <td>6.311056</td>\n",
       "      <td>2.991006</td>\n",
       "      <td>3.320050</td>\n",
       "    </tr>\n",
       "    <tr>\n",
       "      <th>B</th>\n",
       "      <td>3.362892</td>\n",
       "      <td>3.361955</td>\n",
       "      <td>0.000937</td>\n",
       "    </tr>\n",
       "  </tbody>\n",
       "</table>\n",
       "</div>"
      ],
      "text/plain": [
       "              flow_times  service_times  wait_times\n",
       "message_type                                       \n",
       "A               6.311056       2.991006    3.320050\n",
       "B               3.362892       3.361955    0.000937"
      ]
     },
     "execution_count": null,
     "metadata": {},
     "output_type": "execute_result"
    }
   ],
   "source": [
    "system_data.groupby(\"message_type\")[metric_cols].mean()"
   ]
  },
  {
   "cell_type": "code",
   "execution_count": null,
   "id": "32a709de-43dd-46dc-9aeb-49da28075f52",
   "metadata": {},
   "outputs": [
    {
     "data": {
      "text/plain": [
       "AgentConsumer(id_='3bc4380e-fb99-4698-b8f2-ddf33b866831', message_type='B', processed_messages=[QueueMessage(id_='cead17d5-df84-44cd-9442-4db99d94defc', data={'arrival_time': datetime.datetime(2024, 6, 8, 16, 58, 26, 258449), 'parent_A': '7b4a236c-8da0-4952-b5f8-e1eb4a51c62b', 'service_start_time': datetime.datetime(2024, 6, 8, 16, 58, 26, 258875), 'wait_time': 0.000426, 'departure_time': datetime.datetime(2024, 6, 8, 16, 58, 28, 224559), 'service_time': 1.965684, 'flow_time': 1.96611}, action=None, type='B'), QueueMessage(id_='ffeef176-e175-4e36-b171-5934a2c7c209', data={'arrival_time': datetime.datetime(2024, 6, 8, 16, 58, 29, 417147), 'parent_A': 'eab252fa-e77b-48df-9f47-6a10880a21ae', 'service_start_time': datetime.datetime(2024, 6, 8, 16, 58, 29, 418071), 'wait_time': 0.000924, 'departure_time': datetime.datetime(2024, 6, 8, 16, 58, 50, 322760), 'service_time': 20.904689, 'flow_time': 20.905613}, action=None, type='B'), QueueMessage(id_='8d6f9306-64ae-457d-bea9-a54e90d905ed', data={'arrival_time': datetime.datetime(2024, 6, 8, 16, 58, 57, 112852), 'parent_A': 'd89e296d-289e-4614-bbaf-c2ff929c4cb2', 'service_start_time': datetime.datetime(2024, 6, 8, 16, 58, 57, 113308), 'wait_time': 0.000456, 'departure_time': datetime.datetime(2024, 6, 8, 16, 59, 1, 623920), 'service_time': 4.510612, 'flow_time': 4.511068}, action=None, type='B')], async_callback=None)"
      ]
     },
     "execution_count": null,
     "metadata": {},
     "output_type": "execute_result"
    }
   ],
   "source": [
    "agent_consumers[1]"
   ]
  }
 ],
 "metadata": {
  "kernelspec": {
   "display_name": "llama-agents",
   "language": "python",
   "name": "llama-agents"
  },
  "language_info": {
   "codemirror_mode": {
    "name": "ipython",
    "version": 3
   },
   "file_extension": ".py",
   "mimetype": "text/x-python",
   "name": "python",
   "nbconvert_exporter": "python",
   "pygments_lexer": "ipython3"
  }
 },
 "nbformat": 4,
 "nbformat_minor": 5
}
