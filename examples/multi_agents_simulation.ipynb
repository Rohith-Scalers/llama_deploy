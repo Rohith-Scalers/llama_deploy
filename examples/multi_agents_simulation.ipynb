{
 "cells": [
  {
   "cell_type": "markdown",
   "id": "8859a81d-0772-4f7b-aa48-be00fd396423",
   "metadata": {},
   "source": [
    "# Multi-Agent Simulation"
   ]
  },
  {
   "cell_type": "code",
   "execution_count": null,
   "id": "a2754721-a209-4173-a192-bebd885d4515",
   "metadata": {},
   "outputs": [],
   "source": [
    "import nest_asyncio\n",
    "\n",
    "nest_asyncio.apply()"
   ]
  },
  {
   "cell_type": "markdown",
   "id": "3c64ab45-f23b-4658-9e5d-7c4afea9ca3a",
   "metadata": {},
   "source": [
    "## Setup Multi-Agent System"
   ]
  },
  {
   "cell_type": "code",
   "execution_count": null,
   "id": "84708d7c-0320-4778-9e3e-b52217481dbe",
   "metadata": {},
   "outputs": [],
   "source": [
    "import asyncio\n",
    "from typing import Any, List\n",
    "from pydantic import PrivateAttr\n",
    "from llama_agents.message_consumers.base import BaseMessageQueueConsumer\n",
    "from llama_agents.message_queues.simple import SimpleMessageQueue\n",
    "from llama_agents.messages.base import QueueMessage\n",
    "from datetime import datetime\n",
    "\n",
    "\n",
    "class AgentConsumer(BaseMessageQueueConsumer):\n",
    "    processed_messages: List[QueueMessage] = []\n",
    "    _lock: asyncio.Lock = PrivateAttr(default_factory=asyncio.Lock)\n",
    "    async_callback: Any = None\n",
    "\n",
    "    async def _process_message(self, message: QueueMessage, **kwargs: Any) -> None:\n",
    "        # Start service data\n",
    "        service_start_time = datetime.now()\n",
    "        wait_time = (service_start_time - message.data[\"arrival_time\"]).total_seconds()\n",
    "        message.data.update(\n",
    "            {\"service_start_time\": service_start_time, \"wait_time\": wait_time}\n",
    "        )\n",
    "\n",
    "        # Service\n",
    "        if message.type == \"A\":\n",
    "            service_rate = 2\n",
    "            startup = 0\n",
    "        else:\n",
    "            service_rate = 8\n",
    "            startup = 3\n",
    "        await asyncio.sleep(startup + np.random.exponential(service_rate))\n",
    "        print(\"Processed message.\")\n",
    "\n",
    "        # Track data\n",
    "        async with self._lock:\n",
    "            departure_time = datetime.now()\n",
    "            flow_time = (departure_time - message.data[\"arrival_time\"]).total_seconds()\n",
    "            service_time = (\n",
    "                departure_time - message.data[\"service_start_time\"]\n",
    "            ).total_seconds()\n",
    "            message.data.update(\n",
    "                {\n",
    "                    \"departure_time\": departure_time,\n",
    "                    \"service_time\": service_time,\n",
    "                    \"flow_time\": flow_time,\n",
    "                }\n",
    "            )\n",
    "            self.processed_messages.append(message)\n",
    "\n",
    "        # Publish task B if current task is A\n",
    "        if self.async_callback and message.type == \"A\":\n",
    "            await self.async_callback(message.id_)"
   ]
  },
  {
   "cell_type": "code",
   "execution_count": null,
   "id": "26ecd3b4-57de-4f77-bfb5-8b2428756e3c",
   "metadata": {},
   "outputs": [
    {
     "name": "stderr",
     "output_type": "stream",
     "text": [
      "INFO:llama_agents.message_queues.simple - Consumer ac571b31-c950-4eae-a29f-cbbba2e9dd05: A has been registered.\n",
      "INFO:llama_agents.message_queues.simple - Consumer 2f122c54-6750-43f7-889e-acddfd109f0f: B has been registered.\n",
      "INFO:llama_agents.message_queues.simple - Launching message queue locally\n",
      "INFO:llama_agents.message_queues.base - Publishing message to 'B' with action 'None'\n",
      "INFO:llama_agents.message_queues.simple - Successfully published message 'A' to consumer.\n"
     ]
    },
    {
     "name": "stdout",
     "output_type": "stream",
     "text": [
      "Processed message.\n"
     ]
    },
    {
     "name": "stderr",
     "output_type": "stream",
     "text": [
      "INFO:llama_agents.message_queues.simple - Successfully published message 'B' to consumer.\n"
     ]
    },
    {
     "name": "stdout",
     "output_type": "stream",
     "text": [
      "Processed message.\n"
     ]
    },
    {
     "name": "stderr",
     "output_type": "stream",
     "text": [
      "INFO:llama_agents.message_queues.base - Publishing message to 'B' with action 'None'\n",
      "INFO:llama_agents.message_queues.simple - Successfully published message 'A' to consumer.\n"
     ]
    },
    {
     "name": "stdout",
     "output_type": "stream",
     "text": [
      "Processed message.\n"
     ]
    },
    {
     "name": "stderr",
     "output_type": "stream",
     "text": [
      "INFO:llama_agents.message_queues.simple - Successfully published message 'B' to consumer.\n"
     ]
    },
    {
     "name": "stdout",
     "output_type": "stream",
     "text": [
      "Processed message.\n"
     ]
    },
    {
     "name": "stderr",
     "output_type": "stream",
     "text": [
      "INFO:llama_agents.message_queues.base - Publishing message to 'B' with action 'None'\n",
      "INFO:llama_agents.message_queues.simple - Successfully published message 'A' to consumer.\n"
     ]
    },
    {
     "name": "stdout",
     "output_type": "stream",
     "text": [
      "Processed message.\n"
     ]
    },
    {
     "name": "stderr",
     "output_type": "stream",
     "text": [
      "INFO:llama_agents.message_queues.simple - Successfully published message 'B' to consumer.\n"
     ]
    },
    {
     "name": "stdout",
     "output_type": "stream",
     "text": [
      "Processed message.\n"
     ]
    }
   ],
   "source": [
    "mq = SimpleMessageQueue()\n",
    "task = asyncio.create_task(mq.launch_local())\n",
    "\n",
    "\n",
    "async def publish_B_task(parent_id):\n",
    "    # print(\"publish B task\", flush=True)\n",
    "    new_agent_task = QueueMessage(\n",
    "        type=\"B\", data={\"arrival_time\": datetime.now(), \"parent_A\": parent_id}\n",
    "    )\n",
    "    await mq.publish(new_agent_task)\n",
    "\n",
    "\n",
    "agent_consumers = [\n",
    "    AgentConsumer(message_type=\"A\", async_callback=publish_B_task),\n",
    "    AgentConsumer(message_type=\"B\"),\n",
    "]\n",
    "\n",
    "for agent_consumer in agent_consumers:\n",
    "    await mq.register_consumer(agent_consumer)"
   ]
  },
  {
   "cell_type": "markdown",
   "id": "06fe110d-d275-43c7-a8e5-3ba661d535db",
   "metadata": {},
   "source": [
    "## Simulation: Incoming Agent Tasks"
   ]
  },
  {
   "cell_type": "code",
   "execution_count": null,
   "id": "ea98983e-5cc1-4e3e-9888-57ce0e336369",
   "metadata": {},
   "outputs": [],
   "source": [
    "import asyncio\n",
    "import numpy as np\n",
    "from contextvars import ContextVar"
   ]
  },
  {
   "cell_type": "code",
   "execution_count": null,
   "id": "49a3c94b-6f2b-4891-843f-186f09871b18",
   "metadata": {},
   "outputs": [],
   "source": [
    "async def simulate_incoming_tasks(max_tasks=10):\n",
    "    task_counter: ContextVar[int] = ContextVar(\"task_counter\", default=0)\n",
    "    while True:\n",
    "        interarrival_time = np.random.exponential(5)\n",
    "        await asyncio.sleep(interarrival_time)\n",
    "        print(\"New Task Arrival\")\n",
    "        new_agent_task = QueueMessage(type=\"A\", data={\"arrival_time\": datetime.now()})\n",
    "        await mq.publish(new_agent_task)\n",
    "\n",
    "        task_counter_value = task_counter.get()\n",
    "        updated_task_counter = task_counter_value + 1\n",
    "        task_counter.set(updated_task_counter)\n",
    "        if updated_task_counter == max_tasks:\n",
    "            break"
   ]
  },
  {
   "cell_type": "code",
   "execution_count": null,
   "id": "da8f1cb6-9e6e-4a02-b9f1-8a2fcbf925e2",
   "metadata": {},
   "outputs": [
    {
     "name": "stderr",
     "output_type": "stream",
     "text": [
      "INFO:llama_agents.message_queues.base - Publishing message to 'A' with action 'None'\n"
     ]
    },
    {
     "name": "stdout",
     "output_type": "stream",
     "text": [
      "New Task Arrival\n"
     ]
    },
    {
     "name": "stderr",
     "output_type": "stream",
     "text": [
      "INFO:llama_agents.message_queues.base - Publishing message to 'A' with action 'None'\n"
     ]
    },
    {
     "name": "stdout",
     "output_type": "stream",
     "text": [
      "New Task Arrival\n"
     ]
    },
    {
     "name": "stderr",
     "output_type": "stream",
     "text": [
      "INFO:llama_agents.message_queues.base - Publishing message to 'A' with action 'None'\n"
     ]
    },
    {
     "name": "stdout",
     "output_type": "stream",
     "text": [
      "New Task Arrival\n"
     ]
    }
   ],
   "source": [
    "await asyncio.create_task(simulate_incoming_tasks(3))"
   ]
  },
  {
   "cell_type": "markdown",
   "id": "03b25d56-527a-4d0b-84aa-2f3e0d8c8f4b",
   "metadata": {},
   "source": [
    "### System Metrics"
   ]
  },
  {
   "cell_type": "code",
   "execution_count": null,
   "id": "e5678d9f-4544-4644-984e-690b36d08d6a",
   "metadata": {},
   "outputs": [],
   "source": [
    "import pandas as pd\n",
    "\n",
    "message_data = {\n",
    "    \"message_id\": [],\n",
    "    \"message_type\": [],\n",
    "    \"flow_times\": [],\n",
    "    \"service_times\": [],\n",
    "    \"wait_times\": [],\n",
    "    \"arrival_times\": [],\n",
    "    \"service_start_times\": [],\n",
    "    \"departure_times\": [],\n",
    "}\n",
    "\n",
    "for agent_consumer in agent_consumers:\n",
    "    message_data[\"message_id\"] += [m.id_ for m in agent_consumer.processed_messages]\n",
    "    message_data[\"message_type\"] += [m.type for m in agent_consumer.processed_messages]\n",
    "    message_data[\"flow_times\"] += [\n",
    "        m.data[\"flow_time\"] for m in agent_consumer.processed_messages\n",
    "    ]\n",
    "    message_data[\"service_times\"] += [\n",
    "        m.data[\"service_time\"] for m in agent_consumer.processed_messages\n",
    "    ]\n",
    "    message_data[\"wait_times\"] += [\n",
    "        m.data[\"wait_time\"] for m in agent_consumer.processed_messages\n",
    "    ]\n",
    "    message_data[\"arrival_times\"] += [\n",
    "        m.data[\"arrival_time\"] for m in agent_consumer.processed_messages\n",
    "    ]\n",
    "    message_data[\"service_start_times\"] += [\n",
    "        m.data[\"service_start_time\"] for m in agent_consumer.processed_messages\n",
    "    ]\n",
    "    message_data[\"departure_times\"] += [\n",
    "        m.data[\"departure_time\"] for m in agent_consumer.processed_messages\n",
    "    ]\n",
    "\n",
    "system_data = pd.DataFrame(message_data)"
   ]
  },
  {
   "cell_type": "code",
   "execution_count": null,
   "id": "85e5a2e8-ea05-449a-9381-f886d04d8903",
   "metadata": {},
   "outputs": [
    {
     "data": {
      "text/html": [
       "<div>\n",
       "<style scoped>\n",
       "    .dataframe tbody tr th:only-of-type {\n",
       "        vertical-align: middle;\n",
       "    }\n",
       "\n",
       "    .dataframe tbody tr th {\n",
       "        vertical-align: top;\n",
       "    }\n",
       "\n",
       "    .dataframe thead th {\n",
       "        text-align: right;\n",
       "    }\n",
       "</style>\n",
       "<table border=\"1\" class=\"dataframe\">\n",
       "  <thead>\n",
       "    <tr style=\"text-align: right;\">\n",
       "      <th></th>\n",
       "      <th>message_id</th>\n",
       "      <th>message_type</th>\n",
       "      <th>flow_times</th>\n",
       "      <th>service_times</th>\n",
       "      <th>wait_times</th>\n",
       "      <th>arrival_times</th>\n",
       "      <th>service_start_times</th>\n",
       "      <th>departure_times</th>\n",
       "    </tr>\n",
       "  </thead>\n",
       "  <tbody>\n",
       "    <tr>\n",
       "      <th>0</th>\n",
       "      <td>93cece3e-5cdc-4a92-b2da-6273b82f01a5</td>\n",
       "      <td>A</td>\n",
       "      <td>0.533361</td>\n",
       "      <td>0.522281</td>\n",
       "      <td>0.011080</td>\n",
       "      <td>2024-07-01 14:18:30.513627</td>\n",
       "      <td>2024-07-01 14:18:30.524707</td>\n",
       "      <td>2024-07-01 14:18:31.046988</td>\n",
       "    </tr>\n",
       "    <tr>\n",
       "      <th>1</th>\n",
       "      <td>0b81016c-1e90-42fd-9356-f12cfffa9e9c</td>\n",
       "      <td>A</td>\n",
       "      <td>15.296713</td>\n",
       "      <td>7.304995</td>\n",
       "      <td>7.991718</td>\n",
       "      <td>2024-07-01 14:18:31.261285</td>\n",
       "      <td>2024-07-01 14:18:39.253003</td>\n",
       "      <td>2024-07-01 14:18:46.557998</td>\n",
       "    </tr>\n",
       "    <tr>\n",
       "      <th>2</th>\n",
       "      <td>04fecfdf-fa57-4efe-9b92-f8e9f5e65cbf</td>\n",
       "      <td>A</td>\n",
       "      <td>20.511926</td>\n",
       "      <td>1.818384</td>\n",
       "      <td>18.693542</td>\n",
       "      <td>2024-07-01 14:18:36.101715</td>\n",
       "      <td>2024-07-01 14:18:54.795257</td>\n",
       "      <td>2024-07-01 14:18:56.613641</td>\n",
       "    </tr>\n",
       "    <tr>\n",
       "      <th>3</th>\n",
       "      <td>299dd9ee-f47b-40a1-9621-cd9d67ca583f</td>\n",
       "      <td>B</td>\n",
       "      <td>8.103188</td>\n",
       "      <td>8.100804</td>\n",
       "      <td>0.002384</td>\n",
       "      <td>2024-07-01 14:18:31.047035</td>\n",
       "      <td>2024-07-01 14:18:31.049419</td>\n",
       "      <td>2024-07-01 14:18:39.150223</td>\n",
       "    </tr>\n",
       "    <tr>\n",
       "      <th>4</th>\n",
       "      <td>6d307430-2b38-4d0f-9445-509403179c03</td>\n",
       "      <td>B</td>\n",
       "      <td>8.134733</td>\n",
       "      <td>8.131872</td>\n",
       "      <td>0.002861</td>\n",
       "      <td>2024-07-01 14:18:46.558066</td>\n",
       "      <td>2024-07-01 14:18:46.560927</td>\n",
       "      <td>2024-07-01 14:18:54.692799</td>\n",
       "    </tr>\n",
       "    <tr>\n",
       "      <th>5</th>\n",
       "      <td>2472b164-9df5-469c-9e54-21c9d18f162a</td>\n",
       "      <td>B</td>\n",
       "      <td>28.854296</td>\n",
       "      <td>28.851548</td>\n",
       "      <td>0.002748</td>\n",
       "      <td>2024-07-01 14:18:56.613688</td>\n",
       "      <td>2024-07-01 14:18:56.616436</td>\n",
       "      <td>2024-07-01 14:19:25.467984</td>\n",
       "    </tr>\n",
       "  </tbody>\n",
       "</table>\n",
       "</div>"
      ],
      "text/plain": [
       "                             message_id message_type  flow_times  \\\n",
       "0  93cece3e-5cdc-4a92-b2da-6273b82f01a5            A    0.533361   \n",
       "1  0b81016c-1e90-42fd-9356-f12cfffa9e9c            A   15.296713   \n",
       "2  04fecfdf-fa57-4efe-9b92-f8e9f5e65cbf            A   20.511926   \n",
       "3  299dd9ee-f47b-40a1-9621-cd9d67ca583f            B    8.103188   \n",
       "4  6d307430-2b38-4d0f-9445-509403179c03            B    8.134733   \n",
       "5  2472b164-9df5-469c-9e54-21c9d18f162a            B   28.854296   \n",
       "\n",
       "   service_times  wait_times              arrival_times  \\\n",
       "0       0.522281    0.011080 2024-07-01 14:18:30.513627   \n",
       "1       7.304995    7.991718 2024-07-01 14:18:31.261285   \n",
       "2       1.818384   18.693542 2024-07-01 14:18:36.101715   \n",
       "3       8.100804    0.002384 2024-07-01 14:18:31.047035   \n",
       "4       8.131872    0.002861 2024-07-01 14:18:46.558066   \n",
       "5      28.851548    0.002748 2024-07-01 14:18:56.613688   \n",
       "\n",
       "         service_start_times            departure_times  \n",
       "0 2024-07-01 14:18:30.524707 2024-07-01 14:18:31.046988  \n",
       "1 2024-07-01 14:18:39.253003 2024-07-01 14:18:46.557998  \n",
       "2 2024-07-01 14:18:54.795257 2024-07-01 14:18:56.613641  \n",
       "3 2024-07-01 14:18:31.049419 2024-07-01 14:18:39.150223  \n",
       "4 2024-07-01 14:18:46.560927 2024-07-01 14:18:54.692799  \n",
       "5 2024-07-01 14:18:56.616436 2024-07-01 14:19:25.467984  "
      ]
     },
     "execution_count": null,
     "metadata": {},
     "output_type": "execute_result"
    }
   ],
   "source": [
    "system_data"
   ]
  },
  {
   "cell_type": "code",
   "execution_count": null,
   "id": "231b437b-c327-439d-8876-001c8406841f",
   "metadata": {},
   "outputs": [
    {
     "data": {
      "text/plain": [
       "flow_times       13.572370\n",
       "service_times     9.121647\n",
       "wait_times        4.450722\n",
       "dtype: float64"
      ]
     },
     "execution_count": null,
     "metadata": {},
     "output_type": "execute_result"
    }
   ],
   "source": [
    "metric_cols = [\"flow_times\", \"service_times\", \"wait_times\"]\n",
    "system_data[metric_cols].mean()"
   ]
  },
  {
   "cell_type": "code",
   "execution_count": null,
   "id": "4f76d79c-d2e4-443c-b195-b14a5d64351b",
   "metadata": {},
   "outputs": [
    {
     "data": {
      "text/html": [
       "<div>\n",
       "<style scoped>\n",
       "    .dataframe tbody tr th:only-of-type {\n",
       "        vertical-align: middle;\n",
       "    }\n",
       "\n",
       "    .dataframe tbody tr th {\n",
       "        vertical-align: top;\n",
       "    }\n",
       "\n",
       "    .dataframe thead th {\n",
       "        text-align: right;\n",
       "    }\n",
       "</style>\n",
       "<table border=\"1\" class=\"dataframe\">\n",
       "  <thead>\n",
       "    <tr style=\"text-align: right;\">\n",
       "      <th></th>\n",
       "      <th>flow_times</th>\n",
       "      <th>service_times</th>\n",
       "      <th>wait_times</th>\n",
       "    </tr>\n",
       "    <tr>\n",
       "      <th>message_type</th>\n",
       "      <th></th>\n",
       "      <th></th>\n",
       "      <th></th>\n",
       "    </tr>\n",
       "  </thead>\n",
       "  <tbody>\n",
       "    <tr>\n",
       "      <th>A</th>\n",
       "      <td>12.114000</td>\n",
       "      <td>3.215220</td>\n",
       "      <td>8.898780</td>\n",
       "    </tr>\n",
       "    <tr>\n",
       "      <th>B</th>\n",
       "      <td>15.030739</td>\n",
       "      <td>15.028075</td>\n",
       "      <td>0.002664</td>\n",
       "    </tr>\n",
       "  </tbody>\n",
       "</table>\n",
       "</div>"
      ],
      "text/plain": [
       "              flow_times  service_times  wait_times\n",
       "message_type                                       \n",
       "A              12.114000       3.215220    8.898780\n",
       "B              15.030739      15.028075    0.002664"
      ]
     },
     "execution_count": null,
     "metadata": {},
     "output_type": "execute_result"
    }
   ],
   "source": [
    "system_data.groupby(\"message_type\")[metric_cols].mean()"
   ]
  },
  {
   "cell_type": "code",
   "execution_count": null,
   "id": "32a709de-43dd-46dc-9aeb-49da28075f52",
   "metadata": {},
   "outputs": [
    {
     "data": {
      "text/plain": [
       "AgentConsumer(id_='2f122c54-6750-43f7-889e-acddfd109f0f', message_type='B', processed_messages=[QueueMessage(id_='299dd9ee-f47b-40a1-9621-cd9d67ca583f', publisher_id='default', data={'arrival_time': datetime.datetime(2024, 7, 1, 14, 18, 31, 47035), 'parent_A': '93cece3e-5cdc-4a92-b2da-6273b82f01a5', 'service_start_time': datetime.datetime(2024, 7, 1, 14, 18, 31, 49419), 'wait_time': 0.002384, 'departure_time': datetime.datetime(2024, 7, 1, 14, 18, 39, 150223), 'service_time': 8.100804, 'flow_time': 8.103188}, action=None, stats=QueueMessageStats(publish_time='2024-07-01 14:18:31', process_start_time='2024-07-01 14:18:31', process_end_time='2024-07-01 14:18:39'), type='B'), QueueMessage(id_='6d307430-2b38-4d0f-9445-509403179c03', publisher_id='default', data={'arrival_time': datetime.datetime(2024, 7, 1, 14, 18, 46, 558066), 'parent_A': '0b81016c-1e90-42fd-9356-f12cfffa9e9c', 'service_start_time': datetime.datetime(2024, 7, 1, 14, 18, 46, 560927), 'wait_time': 0.002861, 'departure_time': datetime.datetime(2024, 7, 1, 14, 18, 54, 692799), 'service_time': 8.131872, 'flow_time': 8.134733}, action=None, stats=QueueMessageStats(publish_time='2024-07-01 14:18:46', process_start_time='2024-07-01 14:18:46', process_end_time='2024-07-01 14:18:54'), type='B'), QueueMessage(id_='2472b164-9df5-469c-9e54-21c9d18f162a', publisher_id='default', data={'arrival_time': datetime.datetime(2024, 7, 1, 14, 18, 56, 613688), 'parent_A': '04fecfdf-fa57-4efe-9b92-f8e9f5e65cbf', 'service_start_time': datetime.datetime(2024, 7, 1, 14, 18, 56, 616436), 'wait_time': 0.002748, 'departure_time': datetime.datetime(2024, 7, 1, 14, 19, 25, 467984), 'service_time': 28.851548, 'flow_time': 28.854296}, action=None, stats=QueueMessageStats(publish_time='2024-07-01 14:18:56', process_start_time='2024-07-01 14:18:56', process_end_time='2024-07-01 14:19:25'), type='B')], async_callback=None)"
      ]
     },
     "execution_count": null,
     "metadata": {},
     "output_type": "execute_result"
    }
   ],
   "source": [
    "agent_consumers[1]"
   ]
  }
 ],
 "metadata": {
  "kernelspec": {
   "display_name": "llama-agents",
   "language": "python",
   "name": "llama-agents"
  },
  "language_info": {
   "codemirror_mode": {
    "name": "ipython",
    "version": 3
   },
   "file_extension": ".py",
   "mimetype": "text/x-python",
   "name": "python",
   "nbconvert_exporter": "python",
   "pygments_lexer": "ipython3"
  }
 },
 "nbformat": 4,
 "nbformat_minor": 5
}
