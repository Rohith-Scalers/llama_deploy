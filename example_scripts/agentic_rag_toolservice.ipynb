{
 "cells": [
  {
   "cell_type": "markdown",
   "id": "49814a62-0201-4d41-a449-c2c6b4ad2ced",
   "metadata": {},
   "source": [
    "# Build an Agentic RAG Service\n",
    "\n",
    "Setup an agent service that can interact with a tool service (containing RAG toolsover annual reports)."
   ]
  },
  {
   "cell_type": "code",
   "execution_count": 11,
   "id": "e33e5676-8d15-4372-bc32-8d43dd617b80",
   "metadata": {},
   "outputs": [],
   "source": [
    "import nest_asyncio\n",
    "\n",
    "nest_asyncio.apply()"
   ]
  },
  {
   "cell_type": "markdown",
   "id": "8b4be8b8-3d1c-4a82-98f5-ec94d97a679e",
   "metadata": {},
   "source": [
    "## Load Data"
   ]
  },
  {
   "cell_type": "code",
   "execution_count": 7,
   "id": "383d37e8-3887-4a19-bff3-7b58120f0098",
   "metadata": {},
   "outputs": [
    {
     "name": "stdout",
     "output_type": "stream",
     "text": [
      "--2024-06-21 00:09:20--  https://raw.githubusercontent.com/run-llama/llama_index/main/docs/docs/examples/data/10k/uber_2021.pdf\n",
      "Resolving raw.githubusercontent.com (raw.githubusercontent.com)... 2606:50c0:8000::154, 2606:50c0:8003::154, 2606:50c0:8002::154, ...\n",
      "Connecting to raw.githubusercontent.com (raw.githubusercontent.com)|2606:50c0:8000::154|:443... connected.\n",
      "HTTP request sent, awaiting response... 200 OK\n",
      "Length: 1880483 (1.8M) [application/octet-stream]\n",
      "Saving to: ‘data/10k/uber_2021.pdf’\n",
      "\n",
      "data/10k/uber_2021. 100%[===================>]   1.79M  --.-KB/s    in 0.07s   \n",
      "\n",
      "2024-06-21 00:09:21 (24.3 MB/s) - ‘data/10k/uber_2021.pdf’ saved [1880483/1880483]\n",
      "\n",
      "--2024-06-21 00:09:21--  https://raw.githubusercontent.com/run-llama/llama_index/main/docs/docs/examples/data/10k/lyft_2021.pdf\n",
      "Resolving raw.githubusercontent.com (raw.githubusercontent.com)... 2606:50c0:8000::154, 2606:50c0:8003::154, 2606:50c0:8002::154, ...\n",
      "Connecting to raw.githubusercontent.com (raw.githubusercontent.com)|2606:50c0:8000::154|:443... connected.\n",
      "HTTP request sent, awaiting response... 200 OK\n",
      "Length: 1440303 (1.4M) [application/octet-stream]\n",
      "Saving to: ‘data/10k/lyft_2021.pdf’\n",
      "\n",
      "data/10k/lyft_2021. 100%[===================>]   1.37M  --.-KB/s    in 0.05s   \n",
      "\n",
      "2024-06-21 00:09:21 (30.0 MB/s) - ‘data/10k/lyft_2021.pdf’ saved [1440303/1440303]\n",
      "\n"
     ]
    }
   ],
   "source": [
    "!mkdir -p 'data/10k/'\n",
    "!wget 'https://raw.githubusercontent.com/run-llama/llama_index/main/docs/docs/examples/data/10k/uber_2021.pdf' -O 'data/10k/uber_2021.pdf'\n",
    "!wget 'https://raw.githubusercontent.com/run-llama/llama_index/main/docs/docs/examples/data/10k/lyft_2021.pdf' -O 'data/10k/lyft_2021.pdf'"
   ]
  },
  {
   "cell_type": "code",
   "execution_count": 1,
   "id": "1fe13aa4-55f7-4854-b2b7-b3ae02d8df75",
   "metadata": {},
   "outputs": [],
   "source": [
    "from llama_index.core import (\n",
    "    SimpleDirectoryReader,\n",
    "    VectorStoreIndex,\n",
    "    StorageContext,\n",
    "    load_index_from_storage,\n",
    ")\n",
    "\n",
    "from llama_index.core.tools import QueryEngineTool, ToolMetadata"
   ]
  },
  {
   "cell_type": "code",
   "execution_count": 2,
   "id": "dc27a6c2-2840-4705-b832-829a18c8571b",
   "metadata": {},
   "outputs": [],
   "source": [
    "try:\n",
    "    storage_context = StorageContext.from_defaults(\n",
    "        persist_dir=\"./storage/lyft\"\n",
    "    )\n",
    "    lyft_index = load_index_from_storage(storage_context)\n",
    "\n",
    "    storage_context = StorageContext.from_defaults(\n",
    "        persist_dir=\"./storage/uber\"\n",
    "    )\n",
    "    uber_index = load_index_from_storage(storage_context)\n",
    "\n",
    "    index_loaded = True\n",
    "except:\n",
    "    index_loaded = False"
   ]
  },
  {
   "cell_type": "code",
   "execution_count": 3,
   "id": "d17aba20-d21a-45c2-8c0d-4d7c2f52fc7b",
   "metadata": {},
   "outputs": [],
   "source": [
    "if not index_loaded:\n",
    "    # load data\n",
    "    lyft_docs = SimpleDirectoryReader(\n",
    "        input_files=[\"./data/10k/lyft_2021.pdf\"]\n",
    "    ).load_data()\n",
    "    uber_docs = SimpleDirectoryReader(\n",
    "        input_files=[\"./data/10k/uber_2021.pdf\"]\n",
    "    ).load_data()\n",
    "\n",
    "    # build index\n",
    "    lyft_index = VectorStoreIndex.from_documents(lyft_docs)\n",
    "    uber_index = VectorStoreIndex.from_documents(uber_docs)\n",
    "\n",
    "    # persist index\n",
    "    lyft_index.storage_context.persist(persist_dir=\"./storage/lyft\")\n",
    "    uber_index.storage_context.persist(persist_dir=\"./storage/uber\")"
   ]
  },
  {
   "cell_type": "code",
   "execution_count": 4,
   "id": "d2ceb92d-5cb3-415e-aa25-027b5d335ad5",
   "metadata": {},
   "outputs": [],
   "source": [
    "lyft_engine = lyft_index.as_query_engine(similarity_top_k=3)\n",
    "uber_engine = uber_index.as_query_engine(similarity_top_k=3)"
   ]
  },
  {
   "cell_type": "code",
   "execution_count": 5,
   "id": "b1358879-1530-4b4e-9204-0ca2ade4ef56",
   "metadata": {},
   "outputs": [],
   "source": [
    "query_engine_tools = [\n",
    "    QueryEngineTool(\n",
    "        query_engine=lyft_engine,\n",
    "        metadata=ToolMetadata(\n",
    "            name=\"lyft_10k\",\n",
    "            description=(\n",
    "                \"Provides information about Lyft financials for year 2021. \"\n",
    "                \"Use a detailed plain text question as input to the tool.\"\n",
    "            ),\n",
    "        ),\n",
    "    ),\n",
    "    QueryEngineTool(\n",
    "        query_engine=uber_engine,\n",
    "        metadata=ToolMetadata(\n",
    "            name=\"uber_10k\",\n",
    "            description=(\n",
    "                \"Provides information about Uber financials for year 2021. \"\n",
    "                \"Use a detailed plain text question as input to the tool.\"\n",
    "            ),\n",
    "        ),\n",
    "    ),\n",
    "]"
   ]
  },
  {
   "cell_type": "markdown",
   "id": "a8ed9ff6-7195-4213-b8a1-38dc06c3b25d",
   "metadata": {},
   "source": [
    "## Setup Agents\n",
    "\n",
    "Now that we've defined the query tools, we can wrap these under a `ToolService`."
   ]
  },
  {
   "cell_type": "code",
   "execution_count": 27,
   "id": "0a1c0c18-c69c-451c-bf84-3dc71a0ef96c",
   "metadata": {},
   "outputs": [],
   "source": [
    "from llama_index.llms.openai import OpenAI\n",
    "\n",
    "llm = OpenAI(model=\"gpt-4o\")"
   ]
  },
  {
   "cell_type": "code",
   "execution_count": 28,
   "id": "9adc290c-1650-480f-8cb7-b81a9f1e1b76",
   "metadata": {},
   "outputs": [],
   "source": [
    "from agentfile.launchers.local import LocalLauncher\n",
    "from agentfile.services import AgentService, ToolService\n",
    "from agentfile.tools import MetaServiceTool\n",
    "from agentfile.control_plane.fastapi import FastAPIControlPlane\n",
    "from agentfile.message_queues.simple import SimpleMessageQueue\n",
    "from agentfile.orchestrators.agent import AgentOrchestrator\n",
    "\n",
    "from llama_index.core.agent import FunctionCallingAgentWorker\n",
    "from llama_index.core.tools import FunctionTool\n",
    "from llama_index.llms.openai import OpenAI\n",
    "\n",
    "\n",
    "# create our multi-agent framework components\n",
    "message_queue = SimpleMessageQueue()\n",
    "control_plane = FastAPIControlPlane(\n",
    "    message_queue=message_queue,\n",
    "    orchestrator=AgentOrchestrator(llm=llm),\n",
    ")\n",
    "\n",
    "## Define Tool Service\n",
    "tool_service = ToolService(\n",
    "    message_queue=message_queue,\n",
    "    tools=query_engine_tools,\n",
    "    running=True,\n",
    "    step_interval=0.5,\n",
    ")\n",
    "# define tools here\n",
    "meta_tools = [\n",
    "    await MetaServiceTool.from_tool_service(\n",
    "        t.metadata.name,\n",
    "        message_queue=message_queue,\n",
    "        tool_service=tool_service,\n",
    "    ) for t in query_engine_tools\n",
    "]\n",
    "\n",
    "\n",
    "## Define Agent\n",
    "worker1 = FunctionCallingAgentWorker.from_tools(\n",
    "    meta_tools,\n",
    "    llm=OpenAI(),\n",
    ")\n",
    "agent1 = worker1.as_agent()\n",
    "agent_server_1 = AgentService(\n",
    "    agent=agent1,\n",
    "    message_queue=message_queue,\n",
    "    description=\"Used to answer questions over Uber and Lyft 10K documents\",\n",
    "    service_name=\"uber_lyft_10k_analyst_agent\",\n",
    ")"
   ]
  },
  {
   "cell_type": "markdown",
   "id": "a19df0c2-7abe-4563-a4d8-3a47c13b65d0",
   "metadata": {},
   "source": [
    "## Launch agent "
   ]
  },
  {
   "cell_type": "code",
   "execution_count": 29,
   "id": "7b41c86a-fd43-4f82-85ea-90f1208e810f",
   "metadata": {},
   "outputs": [],
   "source": [
    "## Define Launcher\n",
    "launcher = LocalLauncher(\n",
    "    [agent_server_1, tool_service],\n",
    "    control_plane,\n",
    "    message_queue,\n",
    ")"
   ]
  },
  {
   "cell_type": "code",
   "execution_count": 30,
   "id": "6ddf856b-762c-4608-ac02-c1d5fc75bc63",
   "metadata": {},
   "outputs": [
    {
     "name": "stderr",
     "output_type": "stream",
     "text": [
      "INFO:agentfile.message_queues.simple:Consumer dfd6710b-72a7-4170-8478-d232a3d5ee22 has been registered.\n",
      "INFO:agentfile.message_queues.simple:Consumer 351163e8-dbde-40ca-b6df-34d46c86f12c has been registered.\n",
      "INFO:agentfile.message_queues.simple:Consumer 402c1095-7340-4a1f-9bde-2d319081d18c has been registered.\n",
      "INFO:agentfile.message_queues.simple:Consumer 3b9ddaa4-bd17-43c8-8641-999fa65d5a24 has been registered.\n",
      "INFO:agentfile.message_queues.base:Publishing message: id_='3553caf6-74bc-4fae-9a65-e48082c2a67e' publisher_id='LocalLauncher-6d3105dc-b59f-4340-b185-07868409d873' data={'input': 'What are the risk factors for Uber?', 'task_id': '537d712c-3b30-4a1a-9599-42bc07a64401', 'state': {}, 'agent_id': None} action=<ActionTypes.NEW_TASK: 'new_task'> stats=QueueMessageStats(publish_time=None, process_start_time=None, process_end_time=None) type='control_plane'\n",
      "INFO:agentfile.services.agent:uber_lyft_10k_analyst_agent launch_local\n",
      "INFO:httpx:HTTP Request: POST https://api.openai.com/v1/chat/completions \"HTTP/1.1 200 OK\"\n",
      "INFO:agentfile.message_queues.base:Publishing message: id_='5a0d7ce5-cc5f-4056-87fc-562e319e70a4' publisher_id='FastAPIControlPlane-9a3076b5-05f2-4d5c-8cc8-603009e24bea' data={'input': 'risk factors for Uber', 'task_id': '537d712c-3b30-4a1a-9599-42bc07a64401', 'state': {}, 'agent_id': None} action=<ActionTypes.NEW_TASK: 'new_task'> stats=QueueMessageStats(publish_time=None, process_start_time=None, process_end_time=None) type='uber_lyft_10k_analyst_agent'\n",
      "INFO:httpx:HTTP Request: POST https://api.openai.com/v1/chat/completions \"HTTP/1.1 200 OK\"\n",
      "INFO:agentfile.message_queues.simple:Consumer 7314f095-f420-4037-990d-302db8800a1c has been registered.\n",
      "INFO:agentfile.message_queues.base:Publishing message: id_='e9d8911e-a242-4333-ad09-28b6b037d6e4' publisher_id='MetaServiceTool-da52166d-c6ff-4460-8cfa-ea56e8eaeda6' data={'id_': '1cc17158-ea3e-447c-8917-33c8583f83a9', 'tool_call_bundle': {'tool_name': 'uber_10k', 'tool_args': ['Please provide the risk factors for Uber in 2021.'], 'tool_kwargs': {}}, 'source_id': 'MetaServiceTool-da52166d-c6ff-4460-8cfa-ea56e8eaeda6'} action=<ActionTypes.NEW_TOOL_CALL: 'new_tool_call'> stats=QueueMessageStats(publish_time=None, process_start_time=None, process_end_time=None) type='default_tool_service'\n",
      "INFO:agentfile.services.tool:Processing tool call id 1cc17158-ea3e-447c-8917-33c8583f83a9 with uber_10k\n",
      "INFO:httpx:HTTP Request: POST https://api.openai.com/v1/embeddings \"HTTP/1.1 200 OK\"\n",
      "INFO:httpx:HTTP Request: POST https://api.openai.com/v1/chat/completions \"HTTP/1.1 200 OK\"\n",
      "INFO:agentfile.message_queues.base:Publishing message: id_='4240c6ee-9e14-4873-986d-0037451ca385' publisher_id='ToolService-15882b61-92a5-47e3-8c57-e239e414ffef' data={'id_': '1cc17158-ea3e-447c-8917-33c8583f83a9', 'tool_message': {'role': <MessageRole.TOOL: 'tool'>, 'content': \"The risk factors for Uber in 2021 include potential harm to reputation, business, and financial condition due to criminal, violent, inappropriate, or dangerous activities by platform users, challenges in controlling or predicting user actions leading to safety incidents, liabilities arising from incidents caused by drivers or third parties, negative impact on brand and reputation from criminal activities on the platform, and potential adverse effects from public reporting of safety incidents. Additionally, risks include the impact of the COVID-19 pandemic on financial results, workforce reductions, changes to pricing models, uncertainty in predicting the pandemic's cumulative impact, and potential long-term financial implications.\", 'additional_kwargs': {'name': 'uber_10k', 'tool_call_id': '1cc17158-ea3e-447c-8917-33c8583f83a9'}}, 'result': \"The risk factors for Uber in 2021 include potential harm to reputation, business, and financial condition due to criminal, violent, inappropriate, or dangerous activities by platform users, challenges in controlling or predicting user actions leading to safety incidents, liabilities arising from incidents caused by drivers or third parties, negative impact on brand and reputation from criminal activities on the platform, and potential adverse effects from public reporting of safety incidents. Additionally, risks include the impact of the COVID-19 pandemic on financial results, workforce reductions, changes to pricing models, uncertainty in predicting the pandemic's cumulative impact, and potential long-term financial implications.\"} action=<ActionTypes.COMPLETED_TOOL_CALL: 'completed_tool_call'> stats=QueueMessageStats(publish_time=None, process_start_time=None, process_end_time=None) type='MetaServiceTool-da52166d-c6ff-4460-8cfa-ea56e8eaeda6'\n",
      "INFO:httpx:HTTP Request: POST https://api.openai.com/v1/chat/completions \"HTTP/1.1 200 OK\"\n",
      "INFO:agentfile.message_queues.base:Publishing message: id_='3c471b98-ef1f-4c8d-8de7-c69f34fcf26f' publisher_id='AgentService-8d951bb8-4ce8-4ce3-8c31-8cf7071e7994' data={'task_id': '537d712c-3b30-4a1a-9599-42bc07a64401', 'history': [{'role': <MessageRole.USER: 'user'>, 'content': 'risk factors for Uber', 'additional_kwargs': {}}, {'role': <MessageRole.ASSISTANT: 'assistant'>, 'content': None, 'additional_kwargs': {'tool_calls': [{'id': 'call_hQVFUsgrO5cJ6vJmQih4eBEL', 'function': {'arguments': '{\"input\":\"Please provide the risk factors for Uber in 2021.\"}', 'name': 'uber_10k'}, 'type': 'function'}]}}, {'role': <MessageRole.TOOL: 'tool'>, 'content': \"The risk factors for Uber in 2021 include potential harm to reputation, business, and financial condition due to criminal, violent, inappropriate, or dangerous activities by platform users, challenges in controlling or predicting user actions leading to safety incidents, liabilities arising from incidents caused by drivers or third parties, negative impact on brand and reputation from criminal activities on the platform, and potential adverse effects from public reporting of safety incidents. Additionally, risks include the impact of the COVID-19 pandemic on financial results, workforce reductions, changes to pricing models, uncertainty in predicting the pandemic's cumulative impact, and potential long-term financial implications.\", 'additional_kwargs': {'name': 'uber_10k', 'tool_call_id': 'call_hQVFUsgrO5cJ6vJmQih4eBEL'}}, {'role': <MessageRole.ASSISTANT: 'assistant'>, 'content': \"Here are some of the risk factors for Uber in 2021:\\n\\n1. Potential harm to reputation, business, and financial condition due to criminal, violent, inappropriate, or dangerous activities by platform users.\\n2. Challenges in controlling or predicting user actions leading to safety incidents.\\n3. Liabilities arising from incidents caused by drivers or third parties.\\n4. Negative impact on brand and reputation from criminal activities on the platform.\\n5. Potential adverse effects from public reporting of safety incidents.\\n6. Impact of the COVID-19 pandemic on financial results.\\n7. Workforce reductions and changes to pricing models.\\n8. Uncertainty in predicting the pandemic's cumulative impact.\\n9. Potential long-term financial implications.\", 'additional_kwargs': {}}], 'result': \"Here are some of the risk factors for Uber in 2021:\\n\\n1. Potential harm to reputation, business, and financial condition due to criminal, violent, inappropriate, or dangerous activities by platform users.\\n2. Challenges in controlling or predicting user actions leading to safety incidents.\\n3. Liabilities arising from incidents caused by drivers or third parties.\\n4. Negative impact on brand and reputation from criminal activities on the platform.\\n5. Potential adverse effects from public reporting of safety incidents.\\n6. Impact of the COVID-19 pandemic on financial results.\\n7. Workforce reductions and changes to pricing models.\\n8. Uncertainty in predicting the pandemic's cumulative impact.\\n9. Potential long-term financial implications.\"} action=<ActionTypes.COMPLETED_TASK: 'completed_task'> stats=QueueMessageStats(publish_time=None, process_start_time=None, process_end_time=None) type='control_plane'\n",
      "INFO:httpx:HTTP Request: POST https://api.openai.com/v1/chat/completions \"HTTP/1.1 200 OK\"\n",
      "INFO:httpx:HTTP Request: POST https://api.openai.com/v1/chat/completions \"HTTP/1.1 200 OK\"\n",
      "INFO:agentfile.message_queues.base:Publishing message: id_='a2d747c0-b927-4dc7-8f0e-5c50ec02ef53' publisher_id='FastAPIControlPlane-9a3076b5-05f2-4d5c-8cc8-603009e24bea' data={'input': 'What are the risk factors for Uber?', 'task_id': '537d712c-3b30-4a1a-9599-42bc07a64401', 'state': {}, 'agent_id': None} action=<ActionTypes.NEW_TASK: 'new_task'> stats=QueueMessageStats(publish_time=None, process_start_time=None, process_end_time=None) type='uber_lyft_10k_analyst_agent'\n",
      "INFO:httpx:HTTP Request: POST https://api.openai.com/v1/chat/completions \"HTTP/1.1 200 OK\"\n",
      "INFO:agentfile.message_queues.base:Publishing message: id_='9336381a-c63d-4d3f-86cd-6b9d8c07d180' publisher_id='MetaServiceTool-da52166d-c6ff-4460-8cfa-ea56e8eaeda6' data={'id_': '6ceb9fbb-8611-4bce-8909-09ee851ce030', 'tool_call_bundle': {'tool_name': 'uber_10k', 'tool_args': ['Please provide the risk factors for Uber in 2021.'], 'tool_kwargs': {}}, 'source_id': 'MetaServiceTool-da52166d-c6ff-4460-8cfa-ea56e8eaeda6'} action=<ActionTypes.NEW_TOOL_CALL: 'new_tool_call'> stats=QueueMessageStats(publish_time=None, process_start_time=None, process_end_time=None) type='default_tool_service'\n",
      "INFO:agentfile.message_queues.simple:Consumer 4222ced3-57e9-4941-b413-f485225348ec has been registered.\n",
      "INFO:agentfile.message_queues.base:Publishing message: id_='71116fd1-fdba-46d8-a3f3-8a54b5f9ad77' publisher_id='MetaServiceTool-414a19ec-b158-40d8-bce2-703afaceb655' data={'id_': 'f06729a3-3b9b-4204-a500-e086924a0d47', 'tool_call_bundle': {'tool_name': 'lyft_10k', 'tool_args': ['Please provide the risk factors for Lyft in 2021.'], 'tool_kwargs': {}}, 'source_id': 'MetaServiceTool-414a19ec-b158-40d8-bce2-703afaceb655'} action=<ActionTypes.NEW_TOOL_CALL: 'new_tool_call'> stats=QueueMessageStats(publish_time=None, process_start_time=None, process_end_time=None) type='default_tool_service'\n",
      "INFO:agentfile.services.tool:Processing tool call id 6ceb9fbb-8611-4bce-8909-09ee851ce030 with uber_10k\n",
      "INFO:httpx:HTTP Request: POST https://api.openai.com/v1/embeddings \"HTTP/1.1 200 OK\"\n",
      "INFO:httpx:HTTP Request: POST https://api.openai.com/v1/chat/completions \"HTTP/1.1 200 OK\"\n",
      "INFO:agentfile.message_queues.base:Publishing message: id_='971561ae-b551-4532-9c23-789dd879858b' publisher_id='ToolService-15882b61-92a5-47e3-8c57-e239e414ffef' data={'id_': '6ceb9fbb-8611-4bce-8909-09ee851ce030', 'tool_message': {'role': <MessageRole.TOOL: 'tool'>, 'content': \"The risk factors for Uber in 2021 include potential harm to reputation, business, and financial condition due to criminal, violent, inappropriate, or dangerous activities by platform users, inability to control or predict actions of users leading to safety incidents, liabilities arising from accidents or incidents caused by drivers or third parties, challenges in driver classification by courts and government agencies, impact of COVID-19 on financial results and operations, uncertainties related to the pandemic's duration and future waves, and potential adverse effects on business partners and vendors due to economic concerns stemming from the pandemic.\", 'additional_kwargs': {'name': 'uber_10k', 'tool_call_id': '6ceb9fbb-8611-4bce-8909-09ee851ce030'}}, 'result': \"The risk factors for Uber in 2021 include potential harm to reputation, business, and financial condition due to criminal, violent, inappropriate, or dangerous activities by platform users, inability to control or predict actions of users leading to safety incidents, liabilities arising from accidents or incidents caused by drivers or third parties, challenges in driver classification by courts and government agencies, impact of COVID-19 on financial results and operations, uncertainties related to the pandemic's duration and future waves, and potential adverse effects on business partners and vendors due to economic concerns stemming from the pandemic.\"} action=<ActionTypes.COMPLETED_TOOL_CALL: 'completed_tool_call'> stats=QueueMessageStats(publish_time=None, process_start_time=None, process_end_time=None) type='MetaServiceTool-da52166d-c6ff-4460-8cfa-ea56e8eaeda6'\n",
      "INFO:agentfile.services.tool:Processing tool call id f06729a3-3b9b-4204-a500-e086924a0d47 with lyft_10k\n",
      "INFO:httpx:HTTP Request: POST https://api.openai.com/v1/embeddings \"HTTP/1.1 200 OK\"\n",
      "INFO:httpx:HTTP Request: POST https://api.openai.com/v1/chat/completions \"HTTP/1.1 200 OK\"\n",
      "INFO:agentfile.message_queues.base:Publishing message: id_='ae02e60a-268e-41d3-ad33-2ca9e0e5433a' publisher_id='ToolService-15882b61-92a5-47e3-8c57-e239e414ffef' data={'id_': 'f06729a3-3b9b-4204-a500-e086924a0d47', 'tool_message': {'role': <MessageRole.TOOL: 'tool'>, 'content': \"The risk factors for Lyft in 2021 include general economic factors such as the impact of the COVID-19 pandemic, natural disasters, economic downturns, and public health crises. Operational factors pose risks related to the company's limited operating history, financial performance, competition, unpredictability of results, ability to attract and retain drivers and riders, insurance coverage, autonomous vehicle technology, reputation, security breaches, pricing practices, and reliance on third parties. Additionally, risks are associated with managing growth, security and privacy breaches, system failures, reliance on third-party service providers, and the development of new offerings on the platform.\", 'additional_kwargs': {'name': 'lyft_10k', 'tool_call_id': 'f06729a3-3b9b-4204-a500-e086924a0d47'}}, 'result': \"The risk factors for Lyft in 2021 include general economic factors such as the impact of the COVID-19 pandemic, natural disasters, economic downturns, and public health crises. Operational factors pose risks related to the company's limited operating history, financial performance, competition, unpredictability of results, ability to attract and retain drivers and riders, insurance coverage, autonomous vehicle technology, reputation, security breaches, pricing practices, and reliance on third parties. Additionally, risks are associated with managing growth, security and privacy breaches, system failures, reliance on third-party service providers, and the development of new offerings on the platform.\"} action=<ActionTypes.COMPLETED_TOOL_CALL: 'completed_tool_call'> stats=QueueMessageStats(publish_time=None, process_start_time=None, process_end_time=None) type='MetaServiceTool-414a19ec-b158-40d8-bce2-703afaceb655'\n",
      "INFO:httpx:HTTP Request: POST https://api.openai.com/v1/chat/completions \"HTTP/1.1 200 OK\"\n",
      "INFO:agentfile.message_queues.base:Publishing message: id_='631a993c-2da2-412b-8167-66260e35b0a6' publisher_id='AgentService-8d951bb8-4ce8-4ce3-8c31-8cf7071e7994' data={'task_id': '537d712c-3b30-4a1a-9599-42bc07a64401', 'history': [{'role': <MessageRole.USER: 'user'>, 'content': 'risk factors for Uber', 'additional_kwargs': {}}, {'role': <MessageRole.ASSISTANT: 'assistant'>, 'content': None, 'additional_kwargs': {'tool_calls': [{'id': 'call_hQVFUsgrO5cJ6vJmQih4eBEL', 'function': {'arguments': '{\"input\":\"Please provide the risk factors for Uber in 2021.\"}', 'name': 'uber_10k'}, 'type': 'function'}]}}, {'role': <MessageRole.TOOL: 'tool'>, 'content': \"The risk factors for Uber in 2021 include potential harm to reputation, business, and financial condition due to criminal, violent, inappropriate, or dangerous activities by platform users, challenges in controlling or predicting user actions leading to safety incidents, liabilities arising from incidents caused by drivers or third parties, negative impact on brand and reputation from criminal activities on the platform, and potential adverse effects from public reporting of safety incidents. Additionally, risks include the impact of the COVID-19 pandemic on financial results, workforce reductions, changes to pricing models, uncertainty in predicting the pandemic's cumulative impact, and potential long-term financial implications.\", 'additional_kwargs': {'name': 'uber_10k', 'tool_call_id': 'call_hQVFUsgrO5cJ6vJmQih4eBEL'}}, {'role': <MessageRole.ASSISTANT: 'assistant'>, 'content': \"Here are some of the risk factors for Uber in 2021:\\n\\n1. Potential harm to reputation, business, and financial condition due to criminal, violent, inappropriate, or dangerous activities by platform users.\\n2. Challenges in controlling or predicting user actions leading to safety incidents.\\n3. Liabilities arising from incidents caused by drivers or third parties.\\n4. Negative impact on brand and reputation from criminal activities on the platform.\\n5. Potential adverse effects from public reporting of safety incidents.\\n6. Impact of the COVID-19 pandemic on financial results.\\n7. Workforce reductions and changes to pricing models.\\n8. Uncertainty in predicting the pandemic's cumulative impact.\\n9. Potential long-term financial implications.\", 'additional_kwargs': {}}, {'role': <MessageRole.USER: 'user'>, 'content': 'What are the risk factors for Uber?', 'additional_kwargs': {}}, {'role': <MessageRole.ASSISTANT: 'assistant'>, 'content': None, 'additional_kwargs': {'tool_calls': [{'id': 'call_NfT2AyKSA4aOXAX75CMwTkcL', 'function': {'arguments': '{\"input\": \"Please provide the risk factors for Uber in 2021.\"}', 'name': 'uber_10k'}, 'type': 'function'}, {'id': 'call_GI74o1aQYlwPCoszfFRyporf', 'function': {'arguments': '{\"input\": \"Please provide the risk factors for Lyft in 2021.\"}', 'name': 'lyft_10k'}, 'type': 'function'}]}}, {'role': <MessageRole.TOOL: 'tool'>, 'content': \"The risk factors for Uber in 2021 include potential harm to reputation, business, and financial condition due to criminal, violent, inappropriate, or dangerous activities by platform users, inability to control or predict actions of users leading to safety incidents, liabilities arising from accidents or incidents caused by drivers or third parties, challenges in driver classification by courts and government agencies, impact of COVID-19 on financial results and operations, uncertainties related to the pandemic's duration and future waves, and potential adverse effects on business partners and vendors due to economic concerns stemming from the pandemic.\", 'additional_kwargs': {'name': 'uber_10k', 'tool_call_id': 'call_NfT2AyKSA4aOXAX75CMwTkcL'}}, {'role': <MessageRole.TOOL: 'tool'>, 'content': \"The risk factors for Lyft in 2021 include general economic factors such as the impact of the COVID-19 pandemic, natural disasters, economic downturns, and public health crises. Operational factors pose risks related to the company's limited operating history, financial performance, competition, unpredictability of results, ability to attract and retain drivers and riders, insurance coverage, autonomous vehicle technology, reputation, security breaches, pricing practices, and reliance on third parties. Additionally, risks are associated with managing growth, security and privacy breaches, system failures, reliance on third-party service providers, and the development of new offerings on the platform.\", 'additional_kwargs': {'name': 'lyft_10k', 'tool_call_id': 'call_GI74o1aQYlwPCoszfFRyporf'}}, {'role': <MessageRole.ASSISTANT: 'assistant'>, 'content': \"The risk factors for Uber in 2021 include:\\n1. Potential harm to reputation, business, and financial condition due to criminal, violent, inappropriate, or dangerous activities by platform users.\\n2. Inability to control or predict actions of users leading to safety incidents.\\n3. Liabilities arising from accidents or incidents caused by drivers or third parties.\\n4. Challenges in driver classification by courts and government agencies.\\n5. Impact of COVID-19 on financial results and operations.\\n6. Uncertainties related to the pandemic's duration and future waves.\\n7. Potential adverse effects on business partners and vendors due to economic concerns stemming from the pandemic.\\n\\nThe risk factors for Lyft in 2021 include:\\n1. General economic factors such as the impact of the COVID-19 pandemic, natural disasters, economic downturns, and public health crises.\\n2. Operational factors related to the company's limited operating history, financial performance, competition, unpredictability of results, and ability to attract and retain drivers and riders.\\n3. Risks associated with insurance coverage, autonomous vehicle technology, reputation, security breaches, pricing practices, and reliance on third parties.\\n4. Managing growth, security and privacy breaches, system failures, reliance on third-party service providers, and the development of new offerings on the platform.\", 'additional_kwargs': {}}], 'result': \"The risk factors for Uber in 2021 include:\\n1. Potential harm to reputation, business, and financial condition due to criminal, violent, inappropriate, or dangerous activities by platform users.\\n2. Inability to control or predict actions of users leading to safety incidents.\\n3. Liabilities arising from accidents or incidents caused by drivers or third parties.\\n4. Challenges in driver classification by courts and government agencies.\\n5. Impact of COVID-19 on financial results and operations.\\n6. Uncertainties related to the pandemic's duration and future waves.\\n7. Potential adverse effects on business partners and vendors due to economic concerns stemming from the pandemic.\\n\\nThe risk factors for Lyft in 2021 include:\\n1. General economic factors such as the impact of the COVID-19 pandemic, natural disasters, economic downturns, and public health crises.\\n2. Operational factors related to the company's limited operating history, financial performance, competition, unpredictability of results, and ability to attract and retain drivers and riders.\\n3. Risks associated with insurance coverage, autonomous vehicle technology, reputation, security breaches, pricing practices, and reliance on third parties.\\n4. Managing growth, security and privacy breaches, system failures, reliance on third-party service providers, and the development of new offerings on the platform.\"} action=<ActionTypes.COMPLETED_TASK: 'completed_task'> stats=QueueMessageStats(publish_time=None, process_start_time=None, process_end_time=None) type='control_plane'\n",
      "INFO:httpx:HTTP Request: POST https://api.openai.com/v1/chat/completions \"HTTP/1.1 200 OK\"\n"
     ]
    },
    {
     "name": "stdout",
     "output_type": "stream",
     "text": [
      "\n",
      "Shutting down.\n"
     ]
    },
    {
     "ename": "SystemExit",
     "evalue": "0",
     "output_type": "error",
     "traceback": [
      "An exception has occurred, use %tb to see the full traceback.\n",
      "\u001b[0;31mSystemExit\u001b[0m\u001b[0;31m:\u001b[0m 0\n"
     ]
    }
   ],
   "source": [
    "# query_str = \"What was Lyft's revenue growth in 2021?\"\n",
    "# gets stuck in a loop, should mostly be called once \n",
    "query_str = \"What are the risk factors for Uber?\"\n",
    "launcher.launch_single(query_str)\n"
   ]
  },
  {
   "cell_type": "code",
   "execution_count": null,
   "id": "b0b3688f-cad4-450e-81fa-037dd1190260",
   "metadata": {},
   "outputs": [],
   "source": []
  }
 ],
 "metadata": {
  "kernelspec": {
   "display_name": "agentfile",
   "language": "python",
   "name": "agentfile"
  },
  "language_info": {
   "codemirror_mode": {
    "name": "ipython",
    "version": 3
   },
   "file_extension": ".py",
   "mimetype": "text/x-python",
   "name": "python",
   "nbconvert_exporter": "python",
   "pygments_lexer": "ipython3",
   "version": "3.10.8"
  }
 },
 "nbformat": 4,
 "nbformat_minor": 5
}
