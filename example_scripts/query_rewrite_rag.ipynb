{
 "cells": [
  {
   "cell_type": "markdown",
   "id": "49814a62-0201-4d41-a449-c2c6b4ad2ced",
   "metadata": {},
   "source": [
    "# Query Rewriting RAG using Llama Agents\n",
    "\n",
    "Let's setup two agents: a query rewriting service and a RAG service in a simple constrained flow using our Pipeline Orchestrator."
   ]
  },
  {
   "cell_type": "code",
   "execution_count": 1,
   "id": "e33e5676-8d15-4372-bc32-8d43dd617b80",
   "metadata": {},
   "outputs": [],
   "source": [
    "import nest_asyncio\n",
    "\n",
    "nest_asyncio.apply()"
   ]
  },
  {
   "cell_type": "markdown",
   "id": "8b4be8b8-3d1c-4a82-98f5-ec94d97a679e",
   "metadata": {},
   "source": [
    "## Load Data"
   ]
  },
  {
   "cell_type": "code",
   "execution_count": 4,
   "id": "383d37e8-3887-4a19-bff3-7b58120f0098",
   "metadata": {
    "scrolled": true
   },
   "outputs": [
    {
     "name": "stdout",
     "output_type": "stream",
     "text": [
      "  % Total    % Received % Xferd  Average Speed   Time    Time     Time  Current\n",
      "                                 Dload  Upload   Total   Spent    Left  Speed\n",
      "100   249  100   249    0     0   1970      0 --:--:-- --:--:-- --:--:--  2146\n"
     ]
    }
   ],
   "source": [
    "!mkdir -p 'data/'\n",
    "!curl 'https://arxiv.org/pdf/2307.09288.pdf' -o 'data/llama2.pdf'"
   ]
  },
  {
   "cell_type": "code",
   "execution_count": 2,
   "id": "1fe13aa4-55f7-4854-b2b7-b3ae02d8df75",
   "metadata": {},
   "outputs": [
    {
     "name": "stdout",
     "output_type": "stream",
     "text": [
      "Started parsing the file under job_id cac11eca-3926-4a70-8b1a-91bdb0d3df50\n"
     ]
    }
   ],
   "source": [
    "from llama_parse import LlamaParse\n",
    "\n",
    "parser = LlamaParse(result_type=\"text\")\n",
    "docs = parser.load_data(\"data/10k/uber_2021.pdf\")"
   ]
  },
  {
   "cell_type": "code",
   "execution_count": 3,
   "id": "b0f4002b-20cb-4f63-9376-ea91093950c9",
   "metadata": {},
   "outputs": [],
   "source": [
    "# from llama_parse import LlamaParse\n",
    "\n",
    "# parser = LlamaParse(result_type=\"text\")\n",
    "# docs = parser.load_data(\"data/llama2.pdf\")"
   ]
  },
  {
   "cell_type": "code",
   "execution_count": 4,
   "id": "45f9feb7-bbd9-46cd-8415-335d37d83827",
   "metadata": {},
   "outputs": [],
   "source": [
    "import os\n",
    "from llama_index.core import (\n",
    "    StorageContext,\n",
    "    VectorStoreIndex,\n",
    "    load_index_from_storage,\n",
    ")\n",
    "\n",
    "if not os.path.exists(\"storage\"):\n",
    "    index = VectorStoreIndex.from_documents(docs)\n",
    "    # save index to disk\n",
    "    index.set_index_id(\"vector_index\")\n",
    "    index.storage_context.persist(\"./storage\")\n",
    "else:\n",
    "    # rebuild storage context\n",
    "    storage_context = StorageContext.from_defaults(persist_dir=\"storage\")\n",
    "    # load index\n",
    "    index = load_index_from_storage(storage_context, index_id=\"vector_index\")"
   ]
  },
  {
   "cell_type": "markdown",
   "id": "a8ed9ff6-7195-4213-b8a1-38dc06c3b25d",
   "metadata": {},
   "source": [
    "## Setup Agents\n",
    "\n",
    "We define a few custom agents: \n",
    "- a retriever agent that will return nodes based on a custom query string"
   ]
  },
  {
   "cell_type": "code",
   "execution_count": 5,
   "id": "0ebc8b38-c863-4537-a28e-000d5da52393",
   "metadata": {},
   "outputs": [],
   "source": [
    "# define router agent\n",
    "\n",
    "from llama_index.core.bridge.pydantic import PrivateAttr\n",
    "from llama_index.core.agent import FnAgentWorker, Task, AgentChatResponse\n",
    "from llama_index.core import PromptTemplate\n",
    "from llama_index.core.bridge.pydantic import Field\n",
    "from llama_index.core.query_pipeline import QueryPipeline\n",
    "from llama_index.core.llms import LLM\n",
    "from llama_index.llms.openai import OpenAI\n",
    "from typing import Any, Dict, Optional, Tuple\n",
    "\n",
    "OPENAI_LLM = OpenAI(model=\"gpt-4o\")\n",
    "\n",
    "# use HyDE to hallucinate answer.\n",
    "HYDE_PROMPT_STR = (\n",
    "    \"Please write a passage to answer the question\\n\"\n",
    "    \"Try to include as many key details as possible.\\n\"\n",
    "    \"\\n\"\n",
    "    \"\\n\"\n",
    "    \"{query_str}\\n\"\n",
    "    \"\\n\"\n",
    "    \"\\n\"\n",
    "    'Passage:\"\"\"\\n'\n",
    ")\n",
    "HYDE_PROMPT_TMPL = PromptTemplate(HYDE_PROMPT_STR)\n",
    "\n",
    "\n",
    "def run_hdye_fn(state: Dict[str, Any]) -> Tuple[Dict[str, Any], bool]:\n",
    "    \"\"\"Run HyDE.\"\"\"\n",
    "    prompt_tmpl, llm, input_str = state[\"prompt_tmpl\"], state[\"llm\"], state[\"__task__\"].input\n",
    "    qp = QueryPipeline(chain=[prompt_tmpl, llm])\n",
    "    output = qp.run(query_str=input_str)\n",
    "\n",
    "    state[\"__output__\"] = str(output)\n",
    "    # return state dictionary and also if agent is done \n",
    "    return state, True"
   ]
  },
  {
   "cell_type": "code",
   "execution_count": 6,
   "id": "bcad4f2e-f739-4ad7-b5db-6a48adbf4d8d",
   "metadata": {},
   "outputs": [],
   "source": [
    "hyde_agent = FnAgentWorker(\n",
    "    fn=run_hdye_fn, initial_state={\"prompt_tmpl\": HYDE_PROMPT_TMPL, \"llm\": OPENAI_LLM}\n",
    ").as_agent()"
   ]
  },
  {
   "cell_type": "code",
   "execution_count": 7,
   "id": "9adc290c-1650-480f-8cb7-b81a9f1e1b76",
   "metadata": {},
   "outputs": [],
   "source": [
    "# define RAG agent\n",
    "from llama_index.core.query_engine import RetrieverQueryEngine\n",
    "\n",
    "def run_rag_fn(state: Dict[str, Any]) -> Tuple[Dict[str, Any], bool]:\n",
    "    \"\"\"Run RAG.\"\"\"\n",
    "    retriever, llm, input_str = state[\"retriever\"], state[\"llm\"], state[\"__task__\"].input\n",
    "    query_engine = RetrieverQueryEngine.from_args(\n",
    "        retriever,\n",
    "        llm=llm\n",
    "    )\n",
    "    response = query_engine.query(input_str)\n",
    "    state[\"__output__\"] = str(response)\n",
    "    return state, True\n",
    "\n",
    "rag_agent = FnAgentWorker(\n",
    "    fn=run_rag_fn, initial_state={\"retriever\": index.as_retriever(), \"llm\": OPENAI_LLM}\n",
    ").as_agent()"
   ]
  },
  {
   "cell_type": "markdown",
   "id": "8c488181-3780-429d-b00d-291584b04232",
   "metadata": {},
   "source": [
    "## Setup Agent Services\n",
    "\n",
    "This includes AgentService and QueryPipeline"
   ]
  },
  {
   "cell_type": "code",
   "execution_count": 8,
   "id": "f7eeaed9-7a9d-4a48-9468-4892ab9aa908",
   "metadata": {},
   "outputs": [],
   "source": [
    "from llama_agents.services import AgentService\n",
    "# from llama_agents.control_plane.fastapi import FastAPIControlPlane\n",
    "from llama_agents import ControlPlaneServer\n",
    "from llama_agents.message_queues.simple import SimpleMessageQueue\n",
    "from llama_agents.orchestrators import PipelineOrchestrator\n",
    "from llama_agents import ServiceComponent\n",
    "\n",
    "from llama_index.core.agent import FunctionCallingAgentWorker\n",
    "from llama_index.core.tools import FunctionTool\n",
    "from llama_index.llms.openai import OpenAI\n",
    "\n",
    "llm = OpenAI(model=\"gpt-3.5-turbo\")\n",
    "message_queue = SimpleMessageQueue()\n",
    "\n",
    "## Define Agent Services\n",
    "query_rewrite_server = AgentService(\n",
    "    agent=hyde_agent,\n",
    "    message_queue=message_queue,\n",
    "    description=\"Used to rewrite queries\",\n",
    "    service_name=\"query_rewrite_agent\",\n",
    ")\n",
    "query_rewrite_server_c = ServiceComponent.from_service_definition(query_rewrite_server)\n",
    "\n",
    "rag_agent_server = AgentService(\n",
    "    agent=rag_agent,\n",
    "    message_queue=message_queue,\n",
    "    description=\"rag_agent\"\n",
    ")\n",
    "rag_agent_server_c = ServiceComponent.from_service_definition(rag_agent_server)\n",
    "\n",
    "# create our multi-agent framework components\n",
    "pipeline = QueryPipeline(chain=[query_rewrite_server_c, rag_agent_server_c])\n",
    "pipeline_orchestrator = PipelineOrchestrator(pipeline)\n",
    "control_plane = ControlPlaneServer(\n",
    "    message_queue=message_queue,\n",
    "    orchestrator=pipeline_orchestrator,\n",
    ")"
   ]
  },
  {
   "cell_type": "markdown",
   "id": "a19df0c2-7abe-4563-a4d8-3a47c13b65d0",
   "metadata": {},
   "source": [
    "## Launch agent "
   ]
  },
  {
   "cell_type": "code",
   "execution_count": 9,
   "id": "7b41c86a-fd43-4f82-85ea-90f1208e810f",
   "metadata": {},
   "outputs": [],
   "source": [
    "from llama_agents.launchers.local import LocalLauncher\n",
    "\n",
    "## Define Launcher\n",
    "launcher = LocalLauncher(\n",
    "    [query_rewrite_server, rag_agent_server],\n",
    "    control_plane,\n",
    "    message_queue,\n",
    ")"
   ]
  },
  {
   "cell_type": "code",
   "execution_count": 10,
   "id": "6ddf856b-762c-4608-ac02-c1d5fc75bc63",
   "metadata": {
    "scrolled": true
   },
   "outputs": [
    {
     "name": "stderr",
     "output_type": "stream",
     "text": [
      "INFO:llama_agents.message_queues.simple:Consumer d0b8a231-a35a-4262-be9b-03146f56e417 has been registered.\n",
      "INFO:llama_agents.message_queues.simple:Consumer f2a5028e-fab5-4b84-9b29-54e58fe6fb04 has been registered.\n",
      "INFO:llama_agents.message_queues.simple:Consumer 985a242b-6808-4378-a57d-6a7daf43cbb9 has been registered.\n",
      "INFO:llama_agents.message_queues.simple:Consumer 424c7f3a-48fd-45ff-9d88-d65fc8d8ecba has been registered.\n",
      "INFO:llama_agents.message_queues.base:Publishing message: id_='90bdcae0-cf2f-4dfd-842d-92ee1ffaf787' publisher_id='LocalLauncher-da4f49eb-9f6c-41ec-9e83-529b73dbbb66' data={'input': 'What are the risk factors for Uber?', 'task_id': '7c893df7-6cd9-416d-bcf3-f5bdb3a0dff9', 'state': {}, 'agent_id': None} action=<ActionTypes.NEW_TASK: 'new_task'> stats=QueueMessageStats(publish_time=None, process_start_time=None, process_end_time=None) type='control_plane'\n",
      "INFO:llama_agents.services.agent:query_rewrite_agent launch_local\n",
      "INFO:llama_agents.services.agent:default_agent launch_local\n",
      "INFO:llama_agents.message_queues.simple:Launching message queue locally\n",
      "INFO:llama_agents.message_queues.base:Publishing message: id_='a99fedfc-f19e-40e3-b06a-dc23e693fb07' publisher_id='ControlPlaneServer-2824b383-6934-483c-8b28-8aab4fdd76ac' data={'input': 'What are the risk factors for Uber?', 'task_id': '7c893df7-6cd9-416d-bcf3-f5bdb3a0dff9', 'state': {}, 'agent_id': None} action=<ActionTypes.NEW_TASK: 'new_task'> stats=QueueMessageStats(publish_time=None, process_start_time=None, process_end_time=None) type='query_rewrite_agent'\n",
      "INFO:llama_agents.message_queues.simple:Successfully published message 'control_plane' to consumer.\n",
      "INFO:llama_agents.message_queues.simple:Successfully published message 'query_rewrite_agent' to consumer.\n",
      "WARNING:llama_index.core.callbacks.utils:Could not find attribute callback_manager on <class 'llama_index.core.agent.custom.simple_function.FnAgentWorker'>.\n",
      "INFO:httpx:HTTP Request: POST https://api.openai.com/v1/chat/completions \"HTTP/1.1 200 OK\"\n",
      "INFO:llama_agents.message_queues.base:Publishing message: id_='d193d57d-8a4a-47ac-b751-2f445cbb12b2' publisher_id='AgentService-b3030977-1da9-4aad-b18c-04bf606e20cd' data={'task_id': '7c893df7-6cd9-416d-bcf3-f5bdb3a0dff9', 'history': [], 'result': \"assistant: Uber, as a global ride-sharing and transportation network company, faces a multitude of risk factors that could impact its operations, financial performance, and overall business sustainability. These risk factors can be broadly categorized into regulatory, competitive, operational, financial, and reputational risks.\\n\\n**Regulatory Risks:** Uber operates in a highly regulated industry, and changes in laws and regulations can significantly affect its business model. Different countries and cities have varying requirements for ride-sharing services, including licensing, insurance, and safety standards. Compliance with these regulations can be costly and complex. Additionally, there is always the risk of new regulations being introduced that could limit Uber's ability to operate or increase its operational costs. Legal battles over the classification of drivers as independent contractors versus employees also pose a significant risk, as reclassification could lead to increased labor costs and liabilities.\\n\\n**Competitive Risks:** The ride-sharing market is highly competitive, with numerous players such as Lyft, Didi Chuxing, and Ola competing for market share. This intense competition can lead to price wars, reduced margins, and increased customer acquisition costs. Moreover, traditional taxi services and emerging transportation technologies, such as autonomous vehicles, present additional competitive threats. Uber must continuously innovate and improve its services to maintain its competitive edge.\\n\\n**Operational Risks:** Uber's business model relies heavily on the availability and reliability of its technology platform. Any technical failures, cybersecurity breaches, or data privacy issues could disrupt services and erode customer trust. Additionally, Uber's operations are dependent on a large network of drivers. Maintaining a sufficient supply of drivers, ensuring their satisfaction, and managing driver-related issues such as safety and misconduct are ongoing challenges.\\n\\n**Financial Risks:** Uber has historically operated at a loss, and there is no guarantee that it will achieve profitability. The company faces risks related to fluctuating fuel prices, foreign exchange rates, and economic downturns, which can affect both operational costs and consumer demand. Furthermore, Uber's expansion into new markets and diversification into other services, such as Uber Eats, require significant capital investment and carry the risk of not achieving the expected returns.\\n\\n**Reputational Risks:** Uber's reputation is crucial to its success, and any negative publicity can have a substantial impact. Issues such as data breaches, allegations of unethical business practices, driver misconduct, and poor customer service can damage Uber's brand image and lead to loss of customers and drivers. The company must actively manage its public relations and ensure high standards of conduct to mitigate these risks.\\n\\nIn summary, Uber faces a complex array of risk factors that require careful management and strategic planning. Regulatory changes, intense competition, operational challenges, financial uncertainties, and reputational issues all pose significant threats to the company's long-term success.\"} action=<ActionTypes.COMPLETED_TASK: 'completed_task'> stats=QueueMessageStats(publish_time=None, process_start_time=None, process_end_time=None) type='control_plane'\n",
      "INFO:llama_agents.message_queues.base:Publishing message: id_='76c2736b-a7c0-42e5-b495-a0e1bbe1fef6' publisher_id='ControlPlaneServer-2824b383-6934-483c-8b28-8aab4fdd76ac' data={'input': \"assistant: Uber, as a global ride-sharing and transportation network company, faces a multitude of risk factors that could impact its operations, financial performance, and overall business sustainability. These risk factors can be broadly categorized into regulatory, competitive, operational, financial, and reputational risks.\\n\\n**Regulatory Risks:** Uber operates in a highly regulated industry, and changes in laws and regulations can significantly affect its business model. Different countries and cities have varying requirements for ride-sharing services, including licensing, insurance, and safety standards. Compliance with these regulations can be costly and complex. Additionally, there is always the risk of new regulations being introduced that could limit Uber's ability to operate or increase its operational costs. Legal battles over the classification of drivers as independent contractors versus employees also pose a significant risk, as reclassification could lead to increased labor costs and liabilities.\\n\\n**Competitive Risks:** The ride-sharing market is highly competitive, with numerous players such as Lyft, Didi Chuxing, and Ola competing for market share. This intense competition can lead to price wars, reduced margins, and increased customer acquisition costs. Moreover, traditional taxi services and emerging transportation technologies, such as autonomous vehicles, present additional competitive threats. Uber must continuously innovate and improve its services to maintain its competitive edge.\\n\\n**Operational Risks:** Uber's business model relies heavily on the availability and reliability of its technology platform. Any technical failures, cybersecurity breaches, or data privacy issues could disrupt services and erode customer trust. Additionally, Uber's operations are dependent on a large network of drivers. Maintaining a sufficient supply of drivers, ensuring their satisfaction, and managing driver-related issues such as safety and misconduct are ongoing challenges.\\n\\n**Financial Risks:** Uber has historically operated at a loss, and there is no guarantee that it will achieve profitability. The company faces risks related to fluctuating fuel prices, foreign exchange rates, and economic downturns, which can affect both operational costs and consumer demand. Furthermore, Uber's expansion into new markets and diversification into other services, such as Uber Eats, require significant capital investment and carry the risk of not achieving the expected returns.\\n\\n**Reputational Risks:** Uber's reputation is crucial to its success, and any negative publicity can have a substantial impact. Issues such as data breaches, allegations of unethical business practices, driver misconduct, and poor customer service can damage Uber's brand image and lead to loss of customers and drivers. The company must actively manage its public relations and ensure high standards of conduct to mitigate these risks.\\n\\nIn summary, Uber faces a complex array of risk factors that require careful management and strategic planning. Regulatory changes, intense competition, operational challenges, financial uncertainties, and reputational issues all pose significant threats to the company's long-term success.\", 'task_id': '7c893df7-6cd9-416d-bcf3-f5bdb3a0dff9', 'state': {}, 'agent_id': None} action=<ActionTypes.NEW_TASK: 'new_task'> stats=QueueMessageStats(publish_time=None, process_start_time=None, process_end_time=None) type='default_agent'\n",
      "INFO:llama_agents.message_queues.simple:Successfully published message 'control_plane' to consumer.\n",
      "INFO:llama_agents.message_queues.simple:Successfully published message 'default_agent' to consumer.\n",
      "WARNING:llama_index.core.callbacks.utils:Could not find attribute callback_manager on <class 'llama_index.core.agent.custom.simple_function.FnAgentWorker'>.\n",
      "INFO:httpx:HTTP Request: POST https://api.openai.com/v1/embeddings \"HTTP/1.1 200 OK\"\n",
      "INFO:httpx:HTTP Request: POST https://api.openai.com/v1/chat/completions \"HTTP/1.1 200 OK\"\n",
      "INFO:llama_agents.message_queues.base:Publishing message: id_='c4e39ab9-b35b-4b74-bfb7-ecc571774865' publisher_id='AgentService-3462015f-931f-4fb9-ac05-959ab8635e20' data={'task_id': '7c893df7-6cd9-416d-bcf3-f5bdb3a0dff9', 'history': [], 'result': \"Uber, as a global ride-sharing and transportation network company, faces a multitude of risk factors that could impact its operations, financial performance, and overall business sustainability. These risk factors can be broadly categorized into regulatory, competitive, operational, financial, and reputational risks.\\n\\n**Regulatory Risks:** Uber operates in a highly regulated industry, and changes in laws and regulations can significantly affect its business model. Different countries and cities have varying requirements for ride-sharing services, including licensing, insurance, and safety standards. Compliance with these regulations can be costly and complex. Additionally, there is always the risk of new regulations being introduced that could limit Uber's ability to operate or increase its operational costs. Legal battles over the classification of drivers as independent contractors versus employees also pose a significant risk, as reclassification could lead to increased labor costs and liabilities.\\n\\n**Competitive Risks:** The ride-sharing market is highly competitive, with numerous players such as Lyft, Didi Chuxing, and Ola competing for market share. This intense competition can lead to price wars, reduced margins, and increased customer acquisition costs. Moreover, traditional taxi services and emerging transportation technologies, such as autonomous vehicles, present additional competitive threats. Uber must continuously innovate and improve its services to maintain its competitive edge.\\n\\n**Operational Risks:** Uber's business model relies heavily on the availability and reliability of its technology platform. Any technical failures, cybersecurity breaches, or data privacy issues could disrupt services and erode customer trust. Additionally, Uber's operations are dependent on a large network of drivers. Maintaining a sufficient supply of drivers, ensuring their satisfaction, and managing driver-related issues such as safety and misconduct are ongoing challenges.\\n\\n**Financial Risks:** Uber has historically operated at a loss, and there is no guarantee that it will achieve profitability. The company faces risks related to fluctuating fuel prices, foreign exchange rates, and economic downturns, which can affect both operational costs and consumer demand. Furthermore, Uber's expansion into new markets and diversification into other services, such as Uber Eats, require significant capital investment and carry the risk of not achieving the expected returns.\\n\\n**Reputational Risks:** Uber's reputation is crucial to its success, and any negative publicity can have a substantial impact. Issues such as data breaches, allegations of unethical business practices, driver misconduct, and poor customer service can damage Uber's brand image and lead to loss of customers and drivers. The company must actively manage its public relations and ensure high standards of conduct to mitigate these risks.\\n\\nIn summary, Uber faces a complex array of risk factors that require careful management and strategic planning. Regulatory changes, intense competition, operational challenges, financial uncertainties, and reputational issues all pose significant threats to the company's long-term success.\"} action=<ActionTypes.COMPLETED_TASK: 'completed_task'> stats=QueueMessageStats(publish_time=None, process_start_time=None, process_end_time=None) type='control_plane'\n",
      "INFO:llama_agents.message_queues.base:Publishing message: id_='ff43803a-3649-4f85-b308-27acbb49601b' publisher_id='ControlPlaneServer-2824b383-6934-483c-8b28-8aab4fdd76ac' data={'task_id': '7c893df7-6cd9-416d-bcf3-f5bdb3a0dff9', 'history': [], 'result': \"Uber, as a global ride-sharing and transportation network company, faces a multitude of risk factors that could impact its operations, financial performance, and overall business sustainability. These risk factors can be broadly categorized into regulatory, competitive, operational, financial, and reputational risks.\\n\\n**Regulatory Risks:** Uber operates in a highly regulated industry, and changes in laws and regulations can significantly affect its business model. Different countries and cities have varying requirements for ride-sharing services, including licensing, insurance, and safety standards. Compliance with these regulations can be costly and complex. Additionally, there is always the risk of new regulations being introduced that could limit Uber's ability to operate or increase its operational costs. Legal battles over the classification of drivers as independent contractors versus employees also pose a significant risk, as reclassification could lead to increased labor costs and liabilities.\\n\\n**Competitive Risks:** The ride-sharing market is highly competitive, with numerous players such as Lyft, Didi Chuxing, and Ola competing for market share. This intense competition can lead to price wars, reduced margins, and increased customer acquisition costs. Moreover, traditional taxi services and emerging transportation technologies, such as autonomous vehicles, present additional competitive threats. Uber must continuously innovate and improve its services to maintain its competitive edge.\\n\\n**Operational Risks:** Uber's business model relies heavily on the availability and reliability of its technology platform. Any technical failures, cybersecurity breaches, or data privacy issues could disrupt services and erode customer trust. Additionally, Uber's operations are dependent on a large network of drivers. Maintaining a sufficient supply of drivers, ensuring their satisfaction, and managing driver-related issues such as safety and misconduct are ongoing challenges.\\n\\n**Financial Risks:** Uber has historically operated at a loss, and there is no guarantee that it will achieve profitability. The company faces risks related to fluctuating fuel prices, foreign exchange rates, and economic downturns, which can affect both operational costs and consumer demand. Furthermore, Uber's expansion into new markets and diversification into other services, such as Uber Eats, require significant capital investment and carry the risk of not achieving the expected returns.\\n\\n**Reputational Risks:** Uber's reputation is crucial to its success, and any negative publicity can have a substantial impact. Issues such as data breaches, allegations of unethical business practices, driver misconduct, and poor customer service can damage Uber's brand image and lead to loss of customers and drivers. The company must actively manage its public relations and ensure high standards of conduct to mitigate these risks.\\n\\nIn summary, Uber faces a complex array of risk factors that require careful management and strategic planning. Regulatory changes, intense competition, operational challenges, financial uncertainties, and reputational issues all pose significant threats to the company's long-term success.\"} action=<ActionTypes.COMPLETED_TASK: 'completed_task'> stats=QueueMessageStats(publish_time=None, process_start_time=None, process_end_time=None) type='human'\n",
      "INFO:llama_agents.message_queues.simple:Successfully published message 'control_plane' to consumer.\n",
      "INFO:llama_agents.message_queues.simple:Successfully published message 'human' to consumer.\n"
     ]
    },
    {
     "data": {
      "text/plain": [
       "\"Uber, as a global ride-sharing and transportation network company, faces a multitude of risk factors that could impact its operations, financial performance, and overall business sustainability. These risk factors can be broadly categorized into regulatory, competitive, operational, financial, and reputational risks.\\n\\n**Regulatory Risks:** Uber operates in a highly regulated industry, and changes in laws and regulations can significantly affect its business model. Different countries and cities have varying requirements for ride-sharing services, including licensing, insurance, and safety standards. Compliance with these regulations can be costly and complex. Additionally, there is always the risk of new regulations being introduced that could limit Uber's ability to operate or increase its operational costs. Legal battles over the classification of drivers as independent contractors versus employees also pose a significant risk, as reclassification could lead to increased labor costs and liabilities.\\n\\n**Competitive Risks:** The ride-sharing market is highly competitive, with numerous players such as Lyft, Didi Chuxing, and Ola competing for market share. This intense competition can lead to price wars, reduced margins, and increased customer acquisition costs. Moreover, traditional taxi services and emerging transportation technologies, such as autonomous vehicles, present additional competitive threats. Uber must continuously innovate and improve its services to maintain its competitive edge.\\n\\n**Operational Risks:** Uber's business model relies heavily on the availability and reliability of its technology platform. Any technical failures, cybersecurity breaches, or data privacy issues could disrupt services and erode customer trust. Additionally, Uber's operations are dependent on a large network of drivers. Maintaining a sufficient supply of drivers, ensuring their satisfaction, and managing driver-related issues such as safety and misconduct are ongoing challenges.\\n\\n**Financial Risks:** Uber has historically operated at a loss, and there is no guarantee that it will achieve profitability. The company faces risks related to fluctuating fuel prices, foreign exchange rates, and economic downturns, which can affect both operational costs and consumer demand. Furthermore, Uber's expansion into new markets and diversification into other services, such as Uber Eats, require significant capital investment and carry the risk of not achieving the expected returns.\\n\\n**Reputational Risks:** Uber's reputation is crucial to its success, and any negative publicity can have a substantial impact. Issues such as data breaches, allegations of unethical business practices, driver misconduct, and poor customer service can damage Uber's brand image and lead to loss of customers and drivers. The company must actively manage its public relations and ensure high standards of conduct to mitigate these risks.\\n\\nIn summary, Uber faces a complex array of risk factors that require careful management and strategic planning. Regulatory changes, intense competition, operational challenges, financial uncertainties, and reputational issues all pose significant threats to the company's long-term success.\""
      ]
     },
     "execution_count": 10,
     "metadata": {},
     "output_type": "execute_result"
    }
   ],
   "source": [
    "# query_str = \"What was Lyft's revenue growth in 2021?\"\n",
    "# gets stuck in a loop, should mostly be called once \n",
    "query_str = \"What are the risk factors for Uber?\"\n",
    "launcher.launch_single(query_str)"
   ]
  },
  {
   "cell_type": "code",
   "execution_count": null,
   "id": "b0b3688f-cad4-450e-81fa-037dd1190260",
   "metadata": {},
   "outputs": [],
   "source": []
  }
 ],
 "metadata": {
  "kernelspec": {
   "display_name": "agentfile",
   "language": "python",
   "name": "agentfile"
  },
  "language_info": {
   "codemirror_mode": {
    "name": "ipython",
    "version": 3
   },
   "file_extension": ".py",
   "mimetype": "text/x-python",
   "name": "python",
   "nbconvert_exporter": "python",
   "pygments_lexer": "ipython3",
   "version": "3.10.8"
  }
 },
 "nbformat": 4,
 "nbformat_minor": 5
}
